{
  "cells": [
    {
      "cell_type": "markdown",
      "metadata": {
        "id": "view-in-github",
        "colab_type": "text"
      },
      "source": [
        "<a href=\"https://colab.research.google.com/github/Jaewon45/BDAnalysis/blob/main/bostonhousing_example.ipynb\" target=\"_parent\"><img src=\"https://colab.research.google.com/assets/colab-badge.svg\" alt=\"Open In Colab\"/></a>"
      ]
    },
    {
      "cell_type": "markdown",
      "id": "315cf9a4",
      "metadata": {
        "id": "315cf9a4"
      },
      "source": [
        "### Regression Example 2 - Boston Housing"
      ]
    },
    {
      "cell_type": "code",
      "execution_count": 1,
      "id": "106bf7db",
      "metadata": {
        "id": "106bf7db"
      },
      "outputs": [],
      "source": [
        "import tensorflow as tf; from tensorflow import keras\n",
        "from tensorflow.keras import layers; from tensorflow.keras.layers import Dense"
      ]
    },
    {
      "cell_type": "code",
      "execution_count": 28,
      "id": "76beded5",
      "metadata": {
        "id": "76beded5",
        "colab": {
          "base_uri": "https://localhost:8080/"
        },
        "outputId": "38608c58-ff43-4e7c-f2ab-0dd57cda34b4"
      },
      "outputs": [
        {
          "output_type": "stream",
          "name": "stderr",
          "text": [
            "/usr/local/lib/python3.7/dist-packages/sklearn/utils/deprecation.py:87: FutureWarning: Function load_boston is deprecated; `load_boston` is deprecated in 1.0 and will be removed in 1.2.\n",
            "\n",
            "    The Boston housing prices dataset has an ethical problem. You can refer to\n",
            "    the documentation of this function for further details.\n",
            "\n",
            "    The scikit-learn maintainers therefore strongly discourage the use of this\n",
            "    dataset unless the purpose of the code is to study and educate about\n",
            "    ethical issues in data science and machine learning.\n",
            "\n",
            "    In this special case, you can fetch the dataset from the original\n",
            "    source::\n",
            "\n",
            "        import pandas as pd\n",
            "        import numpy as np\n",
            "\n",
            "\n",
            "        data_url = \"http://lib.stat.cmu.edu/datasets/boston\"\n",
            "        raw_df = pd.read_csv(data_url, sep=\"\\s+\", skiprows=22, header=None)\n",
            "        data = np.hstack([raw_df.values[::2, :], raw_df.values[1::2, :2]])\n",
            "        target = raw_df.values[1::2, 2]\n",
            "\n",
            "    Alternative datasets include the California housing dataset (i.e.\n",
            "    :func:`~sklearn.datasets.fetch_california_housing`) and the Ames housing\n",
            "    dataset. You can load the datasets as follows::\n",
            "\n",
            "        from sklearn.datasets import fetch_california_housing\n",
            "        housing = fetch_california_housing()\n",
            "\n",
            "    for the California housing dataset and::\n",
            "\n",
            "        from sklearn.datasets import fetch_openml\n",
            "        housing = fetch_openml(name=\"house_prices\", as_frame=True)\n",
            "\n",
            "    for the Ames housing dataset.\n",
            "    \n",
            "  warnings.warn(msg, category=FutureWarning)\n"
          ]
        }
      ],
      "source": [
        "SEED = 22; random.seed(SEED); np.random.seed(SEED); tf.random.set_seed(SEED)\n",
        "from sklearn import datasets; boston_housing = datasets.load_boston()"
      ]
    },
    {
      "cell_type": "markdown",
      "id": "c8aee6c5",
      "metadata": {
        "id": "c8aee6c5"
      },
      "source": [
        "b) data preprocessing\n",
        "- df.info()시 data가 수치형으로 인코딩돼있음 (float64) - 원핫인코딩 필요없음\n",
        "- 범주형 변수 있지만 2class 변수는 크게 바꿀필요 없음 (하고있지만) "
      ]
    },
    {
      "cell_type": "code",
      "execution_count": 3,
      "id": "dc57a71b",
      "metadata": {
        "scrolled": true,
        "id": "dc57a71b"
      },
      "outputs": [],
      "source": [
        "df = pd.DataFrame(boston_housing.data, columns = boston_housing.feature_names)\n",
        "df['MEDV'] = boston_housing.target # 주택가격. 타운의 주택가격중앙값(단위1000달러)"
      ]
    },
    {
      "cell_type": "code",
      "execution_count": 4,
      "id": "d14b8a3c",
      "metadata": {
        "id": "d14b8a3c",
        "colab": {
          "base_uri": "https://localhost:8080/"
        },
        "outputId": "c46b8b8b-a4aa-4200-89c9-4931c805ed05"
      },
      "outputs": [
        {
          "output_type": "execute_result",
          "data": {
            "text/plain": [
              "0.0    471\n",
              "1.0     35\n",
              "Name: CHAS, dtype: int64"
            ]
          },
          "metadata": {},
          "execution_count": 4
        }
      ],
      "source": [
        "df['CHAS'].value_counts() # unbalanced data"
      ]
    },
    {
      "cell_type": "code",
      "execution_count": 6,
      "id": "74966981",
      "metadata": {
        "id": "74966981"
      },
      "outputs": [],
      "source": [
        "df = pd.get_dummies(data = df, columns = ['CHAS'], prefix = ['CHAS']) # 원핫"
      ]
    },
    {
      "cell_type": "code",
      "execution_count": 7,
      "id": "3d31a2f2",
      "metadata": {
        "id": "3d31a2f2"
      },
      "outputs": [],
      "source": [
        "# df의 column 순서 변경\n",
        "df = df[['CRIM', 'ZN', 'INDUS', 'NOX', 'RM', 'AGE', 'DIS', \n",
        "   'RAD', 'TAX','PTRATIO', 'B', 'LSTAT', 'CHAS_0.0', 'CHAS_1.0', 'MEDV']]\n",
        "X = df.iloc[:, :-1]; Y = df.iloc[:, -1]\n",
        "from sklearn.model_selection import train_test_split\n",
        "X_train, X_test, y_train, y_test = train_test_split(X, Y, test_size=0.2, \n",
        "                                                    shuffle=True, random_state = SEED)"
      ]
    },
    {
      "cell_type": "code",
      "execution_count": 8,
      "id": "c4ba8a8a",
      "metadata": {
        "id": "c4ba8a8a"
      },
      "outputs": [],
      "source": [
        "# feature scaling\n",
        "from sklearn import preprocessing\n",
        "minmax_scaler = preprocessing.MinMaxScaler();norm_fit = minmax_scaler.fit(X_train)\n",
        "X_train_norm = norm_fit.transform(X_train);X_test_norm = norm_fit.transform(X_test)\n",
        "standard_scaler = preprocessing.StandardScaler();stan_fit = standard_scaler.fit(X_train)\n",
        "X_train_stan = stan_fit.transform(X_train);X_test_stan = stan_fit.transform(X_test)\n",
        "# test data를 정규화하는 경우 train data의 통계량을 이용"
      ]
    },
    {
      "cell_type": "markdown",
      "id": "ebb3e0ec",
      "metadata": {
        "id": "ebb3e0ec"
      },
      "source": [
        "    c) building model"
      ]
    },
    {
      "cell_type": "code",
      "execution_count": 9,
      "id": "0d7b9f52",
      "metadata": {
        "id": "0d7b9f52",
        "colab": {
          "base_uri": "https://localhost:8080/"
        },
        "outputId": "1cdadb50-9b03-4e12-e3de-3b983f79d1fc"
      },
      "outputs": [
        {
          "output_type": "stream",
          "name": "stdout",
          "text": [
            "Model: \"sequential\"\n",
            "_________________________________________________________________\n",
            " Layer (type)                Output Shape              Param #   \n",
            "=================================================================\n",
            " dense (Dense)               (None, 128)               1920      \n",
            "                                                                 \n",
            " dense_1 (Dense)             (None, 64)                8256      \n",
            "                                                                 \n",
            " dense_2 (Dense)             (None, 32)                2080      \n",
            "                                                                 \n",
            " dense_3 (Dense)             (None, 16)                528       \n",
            "                                                                 \n",
            " dense_4 (Dense)             (None, 1)                 17        \n",
            "                                                                 \n",
            "=================================================================\n",
            "Total params: 12,801\n",
            "Trainable params: 12,801\n",
            "Non-trainable params: 0\n",
            "_________________________________________________________________\n"
          ]
        }
      ],
      "source": [
        "from tensorflow.keras import Sequential\n",
        "from tensorflow.keras.layers import Dense\n",
        "def build_model(num_input=1):\n",
        "    model = Sequential()\n",
        "    # hidden layer\n",
        "    model.add(Dense(128, activation='relu', input_dim=num_input))\n",
        "    model.add(Dense(64, activation='relu'))\n",
        "    model.add(Dense(32, activation='relu'))\n",
        "    model.add(Dense(16, activation='relu'))\n",
        "    # output layer\n",
        "    model.add(Dense(1, activation='linear'))\n",
        "    # model compile\n",
        "    model.compile(optimizer='adam', loss='mse', metrics=['mse'])\n",
        "    return model\n",
        "model = build_model(num_input=14)   # feature개수 = 14\n",
        "model.summary()"
      ]
    },
    {
      "cell_type": "code",
      "execution_count": 10,
      "id": "ab2d001a",
      "metadata": {
        "id": "ab2d001a"
      },
      "outputs": [],
      "source": [
        "### 3개의 은닉층 존재\n",
        "### 구조도에서 레이어~레이어간 연결선은 sum of WiXi (i=1,..,p) 의미"
      ]
    },
    {
      "cell_type": "markdown",
      "id": "0e125cdf",
      "metadata": {
        "id": "0e125cdf"
      },
      "source": [
        "    d) training model & Test model"
      ]
    },
    {
      "cell_type": "markdown",
      "id": "ada1c03b",
      "metadata": {
        "id": "ada1c03b"
      },
      "source": [
        "- Min-max normalization"
      ]
    },
    {
      "cell_type": "code",
      "execution_count": 11,
      "id": "6bdeed5a",
      "metadata": {
        "scrolled": true,
        "id": "6bdeed5a"
      },
      "outputs": [],
      "source": [
        "history = model.fit(X_train_norm, y_train, batch_size = 32,\n",
        "                    epochs=200, validation_split = 0.2, verbose=0)  "
      ]
    },
    {
      "cell_type": "code",
      "execution_count": 27,
      "id": "a1610266",
      "metadata": {
        "id": "a1610266",
        "colab": {
          "base_uri": "https://localhost:8080/",
          "height": 143
        },
        "outputId": "b5f058d7-d3d3-4409-b4b6-6a9ef6515f54"
      },
      "outputs": [
        {
          "output_type": "execute_result",
          "data": {
            "text/plain": [
              "         loss       mse   val_loss    val_mse  epoch\n",
              "197  7.689589  7.689589  10.914155  10.914155    197\n",
              "198  7.401301  7.401301  10.555208  10.555208    198\n",
              "199  6.603505  6.603505   9.412611   9.412611    199"
            ],
            "text/html": [
              "\n",
              "  <div id=\"df-6c4bd22b-60b5-41c2-a824-23ccee2fe501\">\n",
              "    <div class=\"colab-df-container\">\n",
              "      <div>\n",
              "<style scoped>\n",
              "    .dataframe tbody tr th:only-of-type {\n",
              "        vertical-align: middle;\n",
              "    }\n",
              "\n",
              "    .dataframe tbody tr th {\n",
              "        vertical-align: top;\n",
              "    }\n",
              "\n",
              "    .dataframe thead th {\n",
              "        text-align: right;\n",
              "    }\n",
              "</style>\n",
              "<table border=\"1\" class=\"dataframe\">\n",
              "  <thead>\n",
              "    <tr style=\"text-align: right;\">\n",
              "      <th></th>\n",
              "      <th>loss</th>\n",
              "      <th>mse</th>\n",
              "      <th>val_loss</th>\n",
              "      <th>val_mse</th>\n",
              "      <th>epoch</th>\n",
              "    </tr>\n",
              "  </thead>\n",
              "  <tbody>\n",
              "    <tr>\n",
              "      <th>197</th>\n",
              "      <td>7.689589</td>\n",
              "      <td>7.689589</td>\n",
              "      <td>10.914155</td>\n",
              "      <td>10.914155</td>\n",
              "      <td>197</td>\n",
              "    </tr>\n",
              "    <tr>\n",
              "      <th>198</th>\n",
              "      <td>7.401301</td>\n",
              "      <td>7.401301</td>\n",
              "      <td>10.555208</td>\n",
              "      <td>10.555208</td>\n",
              "      <td>198</td>\n",
              "    </tr>\n",
              "    <tr>\n",
              "      <th>199</th>\n",
              "      <td>6.603505</td>\n",
              "      <td>6.603505</td>\n",
              "      <td>9.412611</td>\n",
              "      <td>9.412611</td>\n",
              "      <td>199</td>\n",
              "    </tr>\n",
              "  </tbody>\n",
              "</table>\n",
              "</div>\n",
              "      <button class=\"colab-df-convert\" onclick=\"convertToInteractive('df-6c4bd22b-60b5-41c2-a824-23ccee2fe501')\"\n",
              "              title=\"Convert this dataframe to an interactive table.\"\n",
              "              style=\"display:none;\">\n",
              "        \n",
              "  <svg xmlns=\"http://www.w3.org/2000/svg\" height=\"24px\"viewBox=\"0 0 24 24\"\n",
              "       width=\"24px\">\n",
              "    <path d=\"M0 0h24v24H0V0z\" fill=\"none\"/>\n",
              "    <path d=\"M18.56 5.44l.94 2.06.94-2.06 2.06-.94-2.06-.94-.94-2.06-.94 2.06-2.06.94zm-11 1L8.5 8.5l.94-2.06 2.06-.94-2.06-.94L8.5 2.5l-.94 2.06-2.06.94zm10 10l.94 2.06.94-2.06 2.06-.94-2.06-.94-.94-2.06-.94 2.06-2.06.94z\"/><path d=\"M17.41 7.96l-1.37-1.37c-.4-.4-.92-.59-1.43-.59-.52 0-1.04.2-1.43.59L10.3 9.45l-7.72 7.72c-.78.78-.78 2.05 0 2.83L4 21.41c.39.39.9.59 1.41.59.51 0 1.02-.2 1.41-.59l7.78-7.78 2.81-2.81c.8-.78.8-2.07 0-2.86zM5.41 20L4 18.59l7.72-7.72 1.47 1.35L5.41 20z\"/>\n",
              "  </svg>\n",
              "      </button>\n",
              "      \n",
              "  <style>\n",
              "    .colab-df-container {\n",
              "      display:flex;\n",
              "      flex-wrap:wrap;\n",
              "      gap: 12px;\n",
              "    }\n",
              "\n",
              "    .colab-df-convert {\n",
              "      background-color: #E8F0FE;\n",
              "      border: none;\n",
              "      border-radius: 50%;\n",
              "      cursor: pointer;\n",
              "      display: none;\n",
              "      fill: #1967D2;\n",
              "      height: 32px;\n",
              "      padding: 0 0 0 0;\n",
              "      width: 32px;\n",
              "    }\n",
              "\n",
              "    .colab-df-convert:hover {\n",
              "      background-color: #E2EBFA;\n",
              "      box-shadow: 0px 1px 2px rgba(60, 64, 67, 0.3), 0px 1px 3px 1px rgba(60, 64, 67, 0.15);\n",
              "      fill: #174EA6;\n",
              "    }\n",
              "\n",
              "    [theme=dark] .colab-df-convert {\n",
              "      background-color: #3B4455;\n",
              "      fill: #D2E3FC;\n",
              "    }\n",
              "\n",
              "    [theme=dark] .colab-df-convert:hover {\n",
              "      background-color: #434B5C;\n",
              "      box-shadow: 0px 1px 3px 1px rgba(0, 0, 0, 0.15);\n",
              "      filter: drop-shadow(0px 1px 2px rgba(0, 0, 0, 0.3));\n",
              "      fill: #FFFFFF;\n",
              "    }\n",
              "  </style>\n",
              "\n",
              "      <script>\n",
              "        const buttonEl =\n",
              "          document.querySelector('#df-6c4bd22b-60b5-41c2-a824-23ccee2fe501 button.colab-df-convert');\n",
              "        buttonEl.style.display =\n",
              "          google.colab.kernel.accessAllowed ? 'block' : 'none';\n",
              "\n",
              "        async function convertToInteractive(key) {\n",
              "          const element = document.querySelector('#df-6c4bd22b-60b5-41c2-a824-23ccee2fe501');\n",
              "          const dataTable =\n",
              "            await google.colab.kernel.invokeFunction('convertToInteractive',\n",
              "                                                     [key], {});\n",
              "          if (!dataTable) return;\n",
              "\n",
              "          const docLinkHtml = 'Like what you see? Visit the ' +\n",
              "            '<a target=\"_blank\" href=https://colab.research.google.com/notebooks/data_table.ipynb>data table notebook</a>'\n",
              "            + ' to learn more about interactive tables.';\n",
              "          element.innerHTML = '';\n",
              "          dataTable['output_type'] = 'display_data';\n",
              "          await google.colab.output.renderOutput(dataTable, element);\n",
              "          const docLink = document.createElement('div');\n",
              "          docLink.innerHTML = docLinkHtml;\n",
              "          element.appendChild(docLink);\n",
              "        }\n",
              "      </script>\n",
              "    </div>\n",
              "  </div>\n",
              "  "
            ]
          },
          "metadata": {},
          "execution_count": 27
        }
      ],
      "source": [
        "hist = pd.DataFrame(history.history)\n",
        "hist['epoch'] = history.epoch\n",
        "hist.tail(3)"
      ]
    },
    {
      "cell_type": "code",
      "execution_count": 26,
      "id": "e8a69ef1",
      "metadata": {
        "id": "e8a69ef1",
        "colab": {
          "base_uri": "https://localhost:8080/"
        },
        "outputId": "1fb93773-b40c-4536-c800-a1ad6250e3d7"
      },
      "outputs": [
        {
          "output_type": "stream",
          "name": "stdout",
          "text": [
            "41/41 - 0s - loss: 1.0899 - accuracy: 0.3646 - 287ms/epoch - 7ms/step\n",
            "테스트 세트의 MSE: 365.0$\n"
          ]
        }
      ],
      "source": [
        "res = model.evaluate(X_test_norm, y_test, verbose=2) # loss=res[0], mse=res[1]\n",
        "print(f\"테스트 세트의 MSE: {round(res[1],3)*1000}$\") # 단위용 *1000$ 추가"
      ]
    },
    {
      "cell_type": "markdown",
      "id": "d5f796c1",
      "metadata": {
        "id": "d5f796c1"
      },
      "source": [
        "- 성능평가\n",
        " - 1. plot_loss_curve(total_epoch=100, start=1); plot_mse_curve(total_epoch=100, start=1)\n",
        " - => epoch 60정도부터 stabilized -> total_epoch=40으로 바꿔보기\n",
        " - 2. 모델의 성능을 확인을위한 fitted vs true value plot 확인 : 잘 적합된 case.  \n",
        " - + plot에서 이상치 확인 가능\n",
        " - + plt.xlim([0,plt.xlim()[1]]);plt.ylim([0,plt.ylim()[1]]);_=plt.plot([-100, 100], [-100, 100]) 추가\n",
        " - 3. R2값 확인 (Y의 변동량을 얼마나 설명하는지)\n",
        "- 표준화 X도 동일과정 반복\n",
        " - 정규화보다 더 빠르게 loss가 수렴, MSE 감소 및 R2 증가"
      ]
    }
  ],
  "metadata": {
    "kernelspec": {
      "display_name": "Python 3",
      "language": "python",
      "name": "python3"
    },
    "language_info": {
      "codemirror_mode": {
        "name": "ipython",
        "version": 3
      },
      "file_extension": ".py",
      "mimetype": "text/x-python",
      "name": "python",
      "nbconvert_exporter": "python",
      "pygments_lexer": "ipython3",
      "version": "3.8.2"
    },
    "colab": {
      "name": "bostonhousing_example.ipynb",
      "provenance": [],
      "include_colab_link": true
    }
  },
  "nbformat": 4,
  "nbformat_minor": 5
}
