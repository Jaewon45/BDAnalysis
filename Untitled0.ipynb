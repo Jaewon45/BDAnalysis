{
  "nbformat": 4,
  "nbformat_minor": 0,
  "metadata": {
    "colab": {
      "name": "Untitled0.ipynb",
      "provenance": [],
      "authorship_tag": "ABX9TyNg8t5q0ITHfALgm34ryg9x",
      "include_colab_link": true
    },
    "kernelspec": {
      "name": "python3",
      "display_name": "Python 3"
    },
    "language_info": {
      "name": "python"
    }
  },
  "cells": [
    {
      "cell_type": "markdown",
      "metadata": {
        "id": "view-in-github",
        "colab_type": "text"
      },
      "source": [
        "<a href=\"https://colab.research.google.com/github/Jaewon45/BDAnalysis/blob/main/Untitled0.ipynb\" target=\"_parent\"><img src=\"https://colab.research.google.com/assets/colab-badge.svg\" alt=\"Open In Colab\"/></a>"
      ]
    },
    {
      "cell_type": "markdown",
      "source": [
        "#### Regression Example 1: 당뇨병 데이터"
      ],
      "metadata": {
        "id": "KvN_w84i7nDJ"
      }
    },
    {
      "cell_type": "code",
      "source": [
        "### 1) import data\n",
        "import numpy as np\n",
        "import pandas as pd \n",
        "import seaborn as sns\n",
        "import matplotlib.pyplot as plt\n",
        "import tensorflow as tf\n",
        "from sklearn import datasets\n",
        "mydata = datasets.load_diabetes()"
      ],
      "metadata": {
        "id": "mQcS-PyY7noE"
      },
      "execution_count": 1,
      "outputs": []
    },
    {
      "cell_type": "code",
      "source": [
        "# feature, target columns\n",
        "df = pd.DataFrame(mydata['data'], columns = mydata['feature_names'])\n",
        "df['diabetes_score'] = mydata['target']"
      ],
      "metadata": {
        "id": "-tLY8MRS7tsw"
      },
      "execution_count": 2,
      "outputs": []
    },
    {
      "cell_type": "markdown",
      "source": [
        "- df.head(), df.describe().T시 데이터는 feature scaling이 완료된 상태이며, 모든 변수가 numeric이므로 원-핫/라벨인코딩 필요 X\n",
        "- standardize를 통해 모든 X의 합 0, 성별도 수치형으로 코딩됨 \n",
        " - sex와 같은 범주형변수도 2class의 경우 수치형으로 코딩 괜찮, 3class 이상부터는 numeric으로 하면 안됨\n",
        "- diabetes 점수가 높을수록 당뇨병 위험이 높음"
      ],
      "metadata": {
        "id": "Hkt9pNAP70Hk"
      }
    },
    {
      "cell_type": "code",
      "source": [
        "### 2) data preprocessing\n",
        "from sklearn.model_selection import train_test_split\n",
        "X_train, X_test, y_train, y_test = train_test_split(df.iloc[:, :-1], df.iloc[:, -1], test_size = 0.2, shuffle = True, random_state = 22)"
      ],
      "metadata": {
        "id": "VcZQvXhr7uHA"
      },
      "execution_count": 4,
      "outputs": []
    },
    {
      "cell_type": "code",
      "source": [
        "model1 = tf.keras.Sequential([\n",
        "    # input layer\n",
        "    # input_dim은 df.columns-1 (y 칼럼 제외하고 카운트)\n",
        "    tf.keras.layers.Dense(64, activation = \"relu\", input_dim = (len(df.columns)-1)),    \n",
        "    # hidden layer : 2개. 활성화 relu\n",
        "    tf.keras.layers.Dense(32, activation = \"relu\"),\n",
        "    tf.keras.layers.Dense(16, activation = \"relu\"),\n",
        "    # output layer (dimension=1)\n",
        "    tf.keras.layers.Dense(1, activation = \"linear\")])  # linear : identity F\n",
        "\n",
        "# model compile, summary\n",
        "# optimizer for backpropatation (loss를 최소화하는 W 찾기위함)\n",
        "# 회귀의 경우 loss와 metrics 둘다 mse, 분류는 loss; entropy/deviance, metrics; accuracy\n",
        "model1.compile(optimizer = \"adam\", loss = \"mse\", metrics = ['mse']) \n",
        "model1.summary()\n",
        "\n",
        "### (전 층에서 노드개수)*(해당 층에서 노드개수)+(해당 층에서 노드개수. bias, intercept term 즉 W0, b0)\n",
        "### dense_3 param # : 16*1 + 1 \n",
        "### dense_1의 param # 의미 : 64*32 + 32 "
      ],
      "metadata": {
        "colab": {
          "base_uri": "https://localhost:8080/"
        },
        "id": "lTXJ2gOd8Epk",
        "outputId": "851288ef-2d1f-46bf-e464-f62f2d8187a3"
      },
      "execution_count": 5,
      "outputs": [
        {
          "output_type": "stream",
          "name": "stdout",
          "text": [
            "Model: \"sequential\"\n",
            "_________________________________________________________________\n",
            " Layer (type)                Output Shape              Param #   \n",
            "=================================================================\n",
            " dense (Dense)               (None, 64)                704       \n",
            "                                                                 \n",
            " dense_1 (Dense)             (None, 32)                2080      \n",
            "                                                                 \n",
            " dense_2 (Dense)             (None, 16)                528       \n",
            "                                                                 \n",
            " dense_3 (Dense)             (None, 1)                 17        \n",
            "                                                                 \n",
            "=================================================================\n",
            "Total params: 3,329\n",
            "Trainable params: 3,329\n",
            "Non-trainable params: 0\n",
            "_________________________________________________________________\n"
          ]
        }
      ]
    },
    {
      "cell_type": "code",
      "source": [
        "history = model1.fit(X_train, y_train, batch_size = 32, epochs = 100, validation_split = 0.2, verbose = 0)\n",
        "\n",
        "### batch size : 한번에 들어가는 데이터의 개수, 많은 경우 mini batch로 적합시킴 (적당히 잘라서 넣는게 시간 및 성능이 괜찮음)\n",
        "### epochs : (batch size만큼씩 돌려서) train set이 한바퀴 다 돌아가는 횟수 의미\n",
        "### validation_split : 전체 훈련데이터중 loss 계산에 사용할만큼 남겨두기, parameter가 많기에 과적합방지\n",
        "### verbose : 한바퀴 돌릴때 출력되는 option (0이면 없음, 1이면 process별, 2면 epoch별)\n",
        "### verbose=1시 출력내용 : epoch별 loss, mse, validation의 loss와 mse (회귀의 경우 mse로 같음)"
      ],
      "metadata": {
        "id": "FTZTrTBJ8Hay"
      },
      "execution_count": 7,
      "outputs": []
    },
    {
      "cell_type": "code",
      "source": [
        "# loss function 시각화\n",
        "def plot_loss_curve(total_epoch = 10, start = 1):\n",
        "    import matplotlib.pyplot as plt; import seaborn as sns\n",
        "    sns.set_theme(color_codes = True); plt.figure; plt.plot(figsize = (15,5))\n",
        "    plt.plot(range(start, total_epoch +1), history.history['loss'][start-1:total_epoch], label = \"Train\")\n",
        "    plt.plot(range(start, total_epoch +1), history.history['val_loss'][start-1:total_epoch], label = \"Validation\")\n",
        "    plt.xlabel(\"Epochs\"); plt.ylabel(\"loss\"); plt.legend(); plt.show()\n",
        "# mse function 시각화\n",
        "def plot_mse_curve(total_epoch = 10, start = 1):\n",
        "    plt.figure; plt.plot(figsize = (15,5)); \n",
        "    plt.plot(range(start, total_epoch +1), history.history['mse'][start-1:total_epoch], label = \"Train\")\n",
        "    plt.plot(range(start, total_epoch +1), history.history['val_mse'][start-1:total_epoch], label = \"Validation\")\n",
        "    plt.xlabel(\"Epochs\"); plt.ylabel(\"MSE\"); plt.legend(); plt.show()\n",
        "plot_loss_curve(total_epoch=100, start = 1)\n",
        "plot_mse_curve(total_epoch=100, start = 1)"
      ],
      "metadata": {
        "colab": {
          "base_uri": "https://localhost:8080/",
          "height": 553
        },
        "id": "t_V9-oXU8JHX",
        "outputId": "a94bb948-efd0-445a-9631-1de88530562b"
      },
      "execution_count": 8,
      "outputs": [
        {
          "output_type": "display_data",
          "data": {
            "text/plain": [
              "<Figure size 432x288 with 1 Axes>"
            ],
            "image/png": "[encoded data removed]"
          },
          "metadata": {}
        },
        {
          "output_type": "display_data",
          "data": {
            "text/plain": [
              "<Figure size 432x288 with 1 Axes>"
            ],
            "image/png": "[encoded data removed]"
          },
          "metadata": {}
        }
      ]
    },
    {
      "cell_type": "markdown",
      "source": [
        "#### Model 2\n",
        "- 은닉층 개수를 2개 추가\n",
        "- Test model (MSE, plot, R2) 결과 결정계수 높아짐 (약 1%정도, 아주조금) \n",
        "- Model 1에 비해 Model 2의 성능이 좋아졌다고 할 수 있다."
      ],
      "metadata": {
        "id": "87pf5Sxx8Qxk"
      }
    },
    {
      "cell_type": "code",
      "source": [
        ""
      ],
      "metadata": {
        "id": "qj1_mOJ88QhR"
      },
      "execution_count": null,
      "outputs": []
    },
    {
      "cell_type": "code",
      "source": [
        ""
      ],
      "metadata": {
        "id": "3Zp4GfAl8RaI"
      },
      "execution_count": null,
      "outputs": []
    }
  ]
}