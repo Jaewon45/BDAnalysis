{
  "nbformat": 4,
  "nbformat_minor": 0,
  "metadata": {
    "colab": {
      "name": "XOR.ipynb",
      "provenance": [],
      "authorship_tag": "ABX9TyNfOd6Ffb6FYgUaaNpQf4Bq",
      "include_colab_link": true
    },
    "kernelspec": {
      "name": "python3",
      "display_name": "Python 3"
    },
    "language_info": {
      "name": "python"
    }
  },
  "cells": [
    {
      "cell_type": "markdown",
      "metadata": {
        "id": "view-in-github",
        "colab_type": "text"
      },
      "source": [
        "<a href=\"https://colab.research.google.com/github/Jaewon45/BDAnalysis/blob/main/XOR.ipynb\" target=\"_parent\"><img src=\"https://colab.research.google.com/assets/colab-badge.svg\" alt=\"Open In Colab\"/></a>"
      ]
    },
    {
      "cell_type": "markdown",
      "source": [
        "#### 2-11. XOR problem"
      ],
      "metadata": {
        "id": "oJtuWUMOhUyR"
      }
    },
    {
      "cell_type": "code",
      "execution_count": 2,
      "metadata": {
        "colab": {
          "base_uri": "https://localhost:8080/"
        },
        "id": "ghW0ETtvePEt",
        "outputId": "53a1daac-927e-47d8-9410-f22b191c3625"
      },
      "outputs": [
        {
          "output_type": "stream",
          "name": "stdout",
          "text": [
            "WARNING:tensorflow:From /usr/local/lib/python3.7/dist-packages/tensorflow/python/compat/v2_compat.py:107: disable_resource_variables (from tensorflow.python.ops.variable_scope) is deprecated and will be removed in a future version.\n",
            "Instructions for updating:\n",
            "non-resource variables are not supported in the long term\n"
          ]
        }
      ],
      "source": [
        "import tensorflow.compat.v1 as tf # version 1.0으로 지정\n",
        "tf.disable_v2_behavior(); import numpy as np\n",
        "import warnings; warnings.filterwarnings(action='ignore')"
      ]
    },
    {
      "cell_type": "code",
      "source": [
        "tf.set_random_seed(777)   # 난수 고정\n",
        "# 학습을 위한 훈련 데이터\n",
        "x_data = np.array([[0, 0], [0, 1], [1, 0], [1, 1]], dtype=np.float32)\n",
        "y_data = np.array([[0], [1], [1], [0]], dtype=np.float32)"
      ],
      "metadata": {
        "id": "rii7ZXzwhUNL"
      },
      "execution_count": 3,
      "outputs": []
    },
    {
      "cell_type": "code",
      "source": [
        "X = tf.placeholder(tf.float32, [None, 2])\n",
        "Y = tf.placeholder(tf.float32, [None, 1])\n",
        "# hidden layer 1\n",
        "W1 = tf.Variable(tf.random_normal([2, 2]), name='weight1')\n",
        "b1 = tf.Variable(tf.random_normal([2]), name='bias1')\n",
        "layer1 = tf.sigmoid(tf.matmul(X, W1) + b1)\n",
        "# hidden layer 2\n",
        "W2 = tf.Variable(tf.random_normal([2, 1]), name='weight2')\n",
        "b2 = tf.Variable(tf.random_normal([1]), name='bias2')\n",
        "hypothesis = tf.sigmoid(tf.matmul(layer1, W2) + b2)"
      ],
      "metadata": {
        "id": "oom0V5nphz1G"
      },
      "execution_count": 4,
      "outputs": []
    },
    {
      "cell_type": "code",
      "source": [
        "# loss function \n",
        "loss = -tf.reduce_mean(Y * tf.log(hypothesis)+(1-Y)*tf.log(1-hypothesis))\n",
        "train = tf.train.GradientDescentOptimizer(learning_rate=0.1).minimize(loss)\n",
        "# Accuracy computation - True if hypothesis>0.5 else False\n",
        "predicted = tf.cast(hypothesis > 0.5, dtype=tf.float32)\n",
        "accuracy = tf.reduce_mean(tf.cast(tf.equal(predicted, Y), dtype=tf.float32))\n",
        "# Launch graph\n",
        "with tf.Session() as sess:\n",
        "    # Initialize TensorFlow variables\n",
        "    sess.run(tf.global_variables_initializer())\n",
        "    for step in range(10001):\n",
        "        _, cost_val = sess.run([train, loss], feed_dict={X: x_data, Y: y_data})\n",
        "        if step % 5000 == 0: print(step, cost_val) # 원래 1000\n",
        "    # Accuracy report\n",
        "    h, p, a = sess.run([hypothesis, predicted, accuracy], \n",
        "                       feed_dict={X: x_data, Y: y_data})\n",
        "    print(f\"Accuracy:{a}\") # Hypothesis:{h} \\nPredicted:{p} 추가 가능"
      ],
      "metadata": {
        "colab": {
          "base_uri": "https://localhost:8080/"
        },
        "id": "2BtdW_2Ph3Ot",
        "outputId": "49a156d2-4dfe-46a5-80c1-3fda2bfd6c30"
      },
      "execution_count": 5,
      "outputs": [
        {
          "output_type": "stream",
          "name": "stdout",
          "text": [
            "0 0.9766817\n",
            "5000 0.4245325\n",
            "10000 0.05881253\n",
            "Accuracy:1.0\n"
          ]
        }
      ]
    }
  ]
}
