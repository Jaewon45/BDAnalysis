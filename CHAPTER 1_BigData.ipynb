{
 "cells": [
  {
   "cell_type": "markdown",
   "id": "8b8a6b3d",
   "metadata": {},
   "source": [
    "# Chapter 1\n",
    "---\n",
    "\n",
    "## 1. Install Python and Jupyter Notebook\n",
    "\n",
    "## 2. Introduction to Python and Jupyter Notebook\n",
    "\n",
    "## 3. Hot key for Jupyter Notebook\n",
    "\n",
    "### 1) Command Mode\n",
    " * [a] 위로 셀 추가\n",
    " * [b] 아래로 셀 추가\n",
    " * [d,d], [x] 선택 셀 삭제\n",
    " * [c] 선택 셀 복사\n",
    " * [p] 선택 셀 아래에 붙여넣기\n",
    " * [shift]+[m] 아래 셀과 합치기\n",
    " * [m] 마크다운으로 변경\n",
    " * [y] 코드로 변경\n",
    " * [s] 파일 저장\n",
    " * [enter] 선택 셀의 입력 모드\n",
    "\n",
    "### 2) Edit Mode\n",
    " * [ctrl]+[a] 코드 전체 선택\n",
    " * [ctrl]+[z] 선택 셀 내 실행 취소\n",
    " * [ctrl]+[y] 선택 셀 내 다시 실행\n",
    " * [ctrl]+[/] 커서 위치 라인 주석처리\n",
    " * [ctrl]+[enter] 코드 실행\n",
    " * [shift]+[enter] 코드 실행 후 다음 셀로 이동 (없는 경우 추가)\n",
    " * [shift]+[ctrl]+[-] 커서 위치에서 셀 둘로 나누기\n",
    " * [esc], [ctrl]+[m] 셀 선택 모드\n",
    "\n",
    "## 4. 파이썬 프로그램 기본\n",
    "\n",
    "### 1) 사칙연산\n",
    "* +, -, *, **, /, %(모듈러)\n",
    "\n",
    "### 2) 데이터형 \n",
    "* type()\n",
    " * a) 문자열형(str)\n",
    " * b) 수치형 (int, float)\n",
    " * c) 부울형 (bool) \n",
    "\n",
    "### 3) 제어문\n",
    "* **a) if문**"
   ]
  },
  {
   "cell_type": "code",
   "execution_count": 17,
   "id": "b6eaa85d",
   "metadata": {},
   "outputs": [
    {
     "name": "stdout",
     "output_type": "stream",
     "text": [
      "입력하는 숫자는 6과 20 사이의 짝수인가?: 31\n",
      "No\n"
     ]
    }
   ],
   "source": [
    "N = int(input(\"입력하는 숫자는 6과 20 사이의 짝수인가?: \"))\n",
    "if N >=6 and N <=20:\n",
    "    if N % 2 == 0:\n",
    "        print (\"Yes\")\n",
    "    else: print(\"No\")\n",
    "else: print(\"No\")"
   ]
  },
  {
   "cell_type": "markdown",
   "id": "ff6d1b0c",
   "metadata": {},
   "source": [
    "* **b) for문**\n",
    " * for val in sequence (리스트, 튜플, 문자열)\n",
    " * 여러 리스트에서 요소와 인덱스를 동시에 얻으려면  \n",
    "   i) enumerate() 함수 : for문 결과 출력시 인덱스 추출  \n",
    "   ii) zip() 함수 : 여러 리스트를 함께 for문에 돌리는 경우 사용 "
   ]
  },
  {
   "cell_type": "code",
   "execution_count": 18,
   "id": "b739f033",
   "metadata": {
    "scrolled": true
   },
   "outputs": [
    {
     "name": "stdout",
     "output_type": "stream",
     "text": [
      "[6, 12]\n"
     ]
    }
   ],
   "source": [
    "a = [1, 2, 3, 4]\n",
    "res = [num*3 for num in a if num % 2 ==0]\n",
    "print(res)"
   ]
  },
  {
   "cell_type": "code",
   "execution_count": 21,
   "id": "22251609",
   "metadata": {},
   "outputs": [
    {
     "name": "stdout",
     "output_type": "stream",
     "text": [
      "0 Song 24\n",
      "1 Kim 50\n",
      "2 Lee 18\n"
     ]
    }
   ],
   "source": [
    "# enumerate()은 인덱스 번호와 컬렉션의 원소를 튜플 형태로 반환 +1\n",
    "# zip()은 여러 개의 순회 가능한(iterable) 객체를 인자로 받아 동일한 개수로 이루어진 자료형을 묶어서 튜플의 형태로 반환\n",
    "names = ['Song', 'Kim', 'Lee']\n",
    "ages = [24, 50, 18]\n",
    "for i, (name, age) in enumerate(zip(names,ages)):\n",
    "    print(i, name, age)"
   ]
  },
  {
   "cell_type": "markdown",
   "id": "9d0cf49a",
   "metadata": {},
   "source": [
    "* **c) while문**\n",
    " * 루프 내 continue 만나면 해당 루프 종료 후 루프 시작지점으로 돌아감 (if, for, while문 모두)\n",
    " * try/except 문을 이용해 오류 처리 가능"
   ]
  },
  {
   "cell_type": "code",
   "execution_count": 23,
   "id": "3cbcc887",
   "metadata": {},
   "outputs": [
    {
     "name": "stdout",
     "output_type": "stream",
     "text": [
      "Enter n : 5\n",
      "The sum is 15\n"
     ]
    }
   ],
   "source": [
    "# 1부터 n까지 정수합 출력\n",
    "\n",
    "n = int(input(\"Enter n : \"))\n",
    "sum = 0\n",
    "i = 1\n",
    "while i <= n:\n",
    "    sum = sum + i\n",
    "    i += 1\n",
    "print(\"The sum is\", sum)"
   ]
  },
  {
   "cell_type": "code",
   "execution_count": 26,
   "id": "556a49af",
   "metadata": {},
   "outputs": [
    {
     "name": "stdout",
     "output_type": "stream",
     "text": [
      "Enter a number:4\n",
      "Enter a number:2\n",
      "Enter a number:done\n",
      "6.0 2 3.0\n"
     ]
    }
   ],
   "source": [
    "# done 입력 전까지 숫자 합, 개수, 몫 출력\n",
    "\n",
    "num = 0\n",
    "tot = 0.0\n",
    "\n",
    "while True:\n",
    "    sval = input(\"Enter a number:\")\n",
    "    if sval == 'done':\n",
    "        break\n",
    "        \n",
    "# try 문에서 예외 발생시 except 문 실행\n",
    "    try:\n",
    "        fval = float(sval) # 수치형 변수인지 확인\n",
    "    except:\n",
    "        print(\"Invalid input\")\n",
    "        continue\n",
    "    num += 1\n",
    "    tot = tot + fval\n",
    "print(tot, num, tot/num)"
   ]
  },
  {
   "cell_type": "code",
   "execution_count": 29,
   "id": "9b2ff303",
   "metadata": {},
   "outputs": [
    {
     "name": "stdout",
     "output_type": "stream",
     "text": [
      "Hello\n",
      "Done Integer로 변환할 수 없습니다.\n"
     ]
    }
   ],
   "source": [
    "# try 문에서 문자열 정수로 전환되지 않아 except문 실행\n",
    "astr = \"호\"\n",
    "try:\n",
    "    print(\"Hello\")\n",
    "    isInt = int(astr) \n",
    "    print(\"World\")\n",
    "except:\n",
    "    isInt = \"Integer로 변환할 수 없습니다.\"\n",
    "print(\"Done\", isInt)"
   ]
  },
  {
   "cell_type": "code",
   "execution_count": 30,
   "id": "489bf7c3",
   "metadata": {},
   "outputs": [
    {
     "name": "stdout",
     "output_type": "stream",
     "text": [
      "Hello\n",
      "World\n",
      "Done 123\n"
     ]
    }
   ],
   "source": [
    "astr = \"123\"\n",
    "try:\n",
    "    print(\"Hello\")\n",
    "    isInt = int(astr)\n",
    "    print(\"World\")\n",
    "except:\n",
    "    isInt = \"Integer로 변환할 수 없습니다.\"\n",
    "print(\"Done\", isInt)"
   ]
  },
  {
   "cell_type": "markdown",
   "id": "41fa1948",
   "metadata": {},
   "source": [
    "## 5. Packages\n",
    "* R은 cmd, package, Python은 module\n",
    "### 1) Install Packages\n",
    "### 2) Some Packages\n",
    " * numpy : 배열(ndarray) 데이터를 다루는 클래스를 주로 사용, 행렬 연산에 강함\n",
    " * pandas : 데이터프레임(dataframe) 데이터 관리에 강한 클래스 사용, 통계분석에 필수적\n",
    " * Sklearn : classification (분류), regression (회귀), clustering (클러스터링), sufficient dimension (차원축소) 등 다양한 머신러닝 모델링을 지원\n",
    " * Tensorflow : 구글에서 제공하는 머신러닝 및 딥러닝 개발을 위한 패키지\n",
    " * matplotlib, seaborn # 강의안? +1\n",
    "\n",
    "## 6. 자료구조\n",
    "\n",
    "### 1) List\n",
    "* **a) 리스트 생성 [ ]** #+1"
   ]
  },
  {
   "cell_type": "code",
   "execution_count": 124,
   "id": "e52ed613",
   "metadata": {},
   "outputs": [
    {
     "name": "stdout",
     "output_type": "stream",
     "text": [
      "sample_list[0:9:2] : [1, 3, 5, 7, 9] \n",
      " from 0 to 9-1, step by 2\n",
      "sample_list[slice(0,9,2)] : [1, 3, 5, 7, 9] \n",
      " from 0 to 9-1, step by 2\n",
      "sample_list[::-1] : [10, 9, 8, 7, 6, 5, 4, 3, 2, 1] \n",
      " all items, reversed\n",
      "sample_list[1::-1] : [2, 1] \n",
      " from 1, reversed\n",
      "sample_list[-4:] : [1, 2, 3, 4, 5, 6] \n",
      " 처음부터 [-5]까지 출력\n",
      "[sample_list[i] for i in [0, 2, 4]]  : [1, 3, 5]\n",
      "sample_list[2::] : [3, 4, 5, 6, 7, 8, 9, 10] \n",
      " [2] 기준으로 오른쪽 모든 값 출력\n",
      "sample_list[2::-1] : [3, 2, 1] \n",
      " [2] 기준으로 오른쪽 모든 값의 reversed 출력\n",
      "sample_list[:-3:] : [1, 2, 3, 4, 5, 6, 7] \n",
      " [-3-1] 기준으로 왼쪽 모든 값 출력 (step by 1=default)\n",
      "sample_list[:-3:-1] : [10, 9] \n",
      " [-3-1] 기준으로 왼쪽 모든 값의 reversed 출력\n",
      "sample_list[-3::-1] : [8, 7, 6, 5, 4, 3, 2, 1] \n",
      " from -3, reversed\n"
     ]
    }
   ],
   "source": [
    "sample_list=[1, 2, 3, 4, 5, 6, 7, 8, 9, 10]\n",
    "\n",
    "a=sample_list[0:9:2] \n",
    "print(f'sample_list[0:9:2] : {a}', '\\n from 0 to 9-1, step by 2' )\n",
    "a=sample_list[slice(0,9,2)] \n",
    "print(f'sample_list[slice(0,9,2)] : {a}', '\\n from 0 to 9-1, step by 2')\n",
    "a=sample_list[::-1] \n",
    "print(f'sample_list[::-1] : {a}', '\\n all items, reversed')\n",
    "a=sample_list[1::-1] \n",
    "print(f'sample_list[1::-1] : {a}', '\\n from 1, reversed')\n",
    "a=sample_list[:-4] \n",
    "print(f'sample_list[-4:] : {a}', '\\n 처음부터 [-5]까지 출력')\n",
    "a=[sample_list[i] for i in [0, 2, 4]] \n",
    "print(f'[sample_list[i] for i in [0, 2, 4]]  : {a}')\n",
    "a=sample_list[2::] \n",
    "print(f'sample_list[2::] : {a}', '\\n [2] 기준으로 오른쪽 모든 값 출력')\n",
    "a=sample_list[2::-1]\n",
    "print(f'sample_list[2::-1] : {a}', '\\n [2] 기준으로 오른쪽 모든 값의 reversed 출력')\n",
    "a=sample_list[:-3:] \n",
    "print(f'sample_list[:-3:] : {a}', '\\n [-3-1] 기준으로 왼쪽 모든 값 출력 (step by 1=default)')\n",
    "a=sample_list[:-3:-1] \n",
    "print(f'sample_list[:-3:-1] : {a}', '\\n [-3-1] 기준으로 왼쪽 모든 값의 reversed 출력')\n",
    "a=sample_list[-3::-1] \n",
    "print(f'sample_list[-3::-1] : {a}', '\\n from -3, reversed')"
   ]
  },
  {
   "cell_type": "markdown",
   "id": "c209d4bd",
   "metadata": {},
   "source": [
    "* **c) 리스트 연산**\n",
    " * len(), del(), 덧셈(+), 곱셈(*)\n",
    " \n",
    "* **d) 리스트 메서드**\n",
    " * list.append(value or list)\n",
    " * list.insert(index, value) : index위치에 추가, 기존 값 오른쪽으로 밀림\n",
    " * list.remove(value) : 여러개 존재시 첫번째 값을 제거\n",
    " * list.pop() : 맨 마지막 값 반환 후 삭제\n",
    " * list.extend(list2) : list에 list2 연결\n",
    " * list.copy() : 다른 변수로 지정\n",
    " * list.reverse() \n",
    " * list.sort() : 내부요소의 데이터타입이 동일해야함, reverse=True 변수\n",
    " * list.count(value) : 반환값\n",
    " * list.index(value) : 반환값\n",
    " * list.clear() : 모든 값 삭제 *** +1 (강의안 오류 확인)\n",
    " \n",
    " \n",
    "### 2) Array\n",
    "\n",
    "* **a) array 생성**"
   ]
  },
  {
   "cell_type": "code",
   "execution_count": 242,
   "id": "536fec4a",
   "metadata": {},
   "outputs": [
    {
     "name": "stdout",
     "output_type": "stream",
     "text": [
      "[1 2 3 4 5]\n",
      "[[ 1  2  3  4  5]\n",
      " [ 6  7  8  9 10]]\n",
      "<class 'numpy.ndarray'>\n"
     ]
    }
   ],
   "source": [
    "import numpy as np\n",
    "\n",
    "sample_array = np.array([1, 2, 3, 4, 5])\n",
    "print(sample_array)\n",
    "sample_array2 = np.array([[1, 2, 3, 4, 5], [6, 7, 8, 9, 10]])\n",
    "print(sample_array2)\n",
    "print(type(sample_array2))"
   ]
  },
  {
   "cell_type": "markdown",
   "id": "f8da2a4e",
   "metadata": {},
   "source": [
    "* **b) 인덱싱과 슬라이싱**"
   ]
  },
  {
   "cell_type": "code",
   "execution_count": 101,
   "id": "7b9c215c",
   "metadata": {},
   "outputs": [
    {
     "name": "stdout",
     "output_type": "stream",
     "text": [
      "[[2 3]\n",
      " [7 8]]\n"
     ]
    }
   ],
   "source": [
    "print(sample_array2[0:2,1:3])"
   ]
  },
  {
   "cell_type": "markdown",
   "id": "21c8ad26",
   "metadata": {},
   "source": [
    "* **c) array 속성**\n",
    " * 벡터화 계산 (vectorization)\n",
    " * 크기가 다른 배열의 경우 '1차원의 길이가 같은 경우'에만 연산 가능 (broadcasting)"
   ]
  },
  {
   "cell_type": "code",
   "execution_count": 115,
   "id": "6896abd9",
   "metadata": {},
   "outputs": [
    {
     "name": "stdout",
     "output_type": "stream",
     "text": [
      "float64\n",
      "[[ 1.  4.  9.]\n",
      " [16. 25. 36.]]\n",
      "[[10.          5.          3.33333333]\n",
      " [ 2.5         2.          1.66666667]]\n"
     ]
    }
   ],
   "source": [
    "#vectorization\n",
    "\n",
    "arr = np.array([[1., 2., 3.],[4.,5.,6.]])\n",
    "print(arr.dtype)\n",
    "print(arr*arr)\n",
    "print(1/arr*10) "
   ]
  },
  {
   "cell_type": "code",
   "execution_count": 114,
   "id": "661e7d46",
   "metadata": {},
   "outputs": [
    {
     "name": "stdout",
     "output_type": "stream",
     "text": [
      "[[4 5 6]\n",
      " [7 8 9]]\n",
      "[[ 5  7  9]\n",
      " [ 8 10 12]]\n"
     ]
    }
   ],
   "source": [
    "# broadcasting\n",
    "\n",
    "arr1 = np.array([1, 2, 3])\n",
    "arr2 = np.array([[4, 5, 6], [7, 8, 9]])\n",
    "arr3 = np.array([1, 2, 3, 4])\n",
    "\n",
    "print(arr2)\n",
    "print(arr1+arr2) \n",
    "# arr1을 recycling, 긴쪽에 맞춰 반복함. 단 1차원 길이가 같은 경우만 가능\n",
    "\n",
    "# print(arr1+arr3) : error\n",
    "# print(arr2+arr3) : error\n",
    "# 1차원 벡터의 길이가 다른 경우 연산 불가"
   ]
  },
  {
   "cell_type": "markdown",
   "id": "89abcba3",
   "metadata": {},
   "source": [
    " ### 3) Data.frame\n",
    "\n",
    "* **a) 데이터프레임 생성**\n",
    " * 배열, 리스트를 이용하는 방법이 간단하며 중괄호 필요"
   ]
  },
  {
   "cell_type": "code",
   "execution_count": 243,
   "id": "b2dd98ab",
   "metadata": {},
   "outputs": [
    {
     "name": "stdout",
     "output_type": "stream",
     "text": [
      "   0  1  2\n",
      "0  1  2  3\n",
      "1  4  5  6\n",
      "2  7  8  9\n",
      "       age  height  weight gender\n",
      "슈퍼맨     20     183      77      M\n",
      "스파이더맨   23     192      83      M\n",
      "베트맨     48     175      65      F\n",
      "   col1  col2 col3\n",
      "0     1     2    A\n",
      "1     2     4    B\n",
      "2     3     6    C\n",
      "3     4     8    D\n",
      "4     5    10    E\n"
     ]
    }
   ],
   "source": [
    "import pandas as pd\n",
    "\n",
    "# list 이용\n",
    "df1 = pd.DataFrame([[1,2,3],[4,5,6],[7,8,9]])\n",
    "print(df1)\n",
    "\n",
    "# dictionary 이용\n",
    "data = {\n",
    "    'age' : [20, 23, 48],\n",
    "    'height' : [183, 192, 175],\n",
    "    'weight' : [77, 83, 65],\n",
    "    'gender' : [\"M\", \"M\", \"F\"]} # character vector\n",
    "indexName = ['슈퍼맨', '스파이더맨', '베트맨'] # index 생성\n",
    "df2 = pd.DataFrame(data, index = indexName)\n",
    "print(df2)\n",
    "\n",
    "# array 이용\n",
    "sample_array = np.array([1, 2, 3, 4, 5])\n",
    "df3 = pd.DataFrame({\n",
    "    'col1' : sample_array,\n",
    "    'col2' : sample_array*2,\n",
    "    'col3' : [\"A\", \"B\", \"C\", \"D\", \"E\"]})\n",
    "print(df3)"
   ]
  },
  {
   "cell_type": "markdown",
   "id": "bcc3baa7",
   "metadata": {},
   "source": [
    "* 난수 생성\n",
    " * np.random.rand(size=1) : 0부터 1사이 균일분포\n",
    " * np.random.randn(size=1) : 가우시안 표준정규분포\n",
    " * np.random.randint(low, high, size) : 균일분포의 정수난수"
   ]
  },
  {
   "cell_type": "code",
   "execution_count": 137,
   "id": "967dc8c1",
   "metadata": {
    "scrolled": true
   },
   "outputs": [
    {
     "name": "stdout",
     "output_type": "stream",
     "text": [
      "   0  1  2  3  4\n",
      "0  6  5  1  5  7\n",
      "1  7  5  9  5  3\n",
      "2  9  8  3  9  9\n",
      "<class 'pandas.core.frame.DataFrame'>\n",
      "RangeIndex: 3 entries, 0 to 2\n",
      "Data columns (total 5 columns):\n",
      " #   Column  Non-Null Count  Dtype\n",
      "---  ------  --------------  -----\n",
      " 0   0       3 non-null      int32\n",
      " 1   1       3 non-null      int32\n",
      " 2   2       3 non-null      int32\n",
      " 3   3       3 non-null      int32\n",
      " 4   4       3 non-null      int32\n",
      "dtypes: int32(5)\n",
      "memory usage: 188.0 bytes\n"
     ]
    }
   ],
   "source": [
    "np.random.seed(22)\n",
    "df = pd.DataFrame(np.random.randint(1, 10, size=(3,5)))\n",
    "print(df)\n",
    "df.info()"
   ]
  },
  {
   "cell_type": "markdown",
   "id": "d692d752",
   "metadata": {},
   "source": [
    "* **b) 인덱싱**\n",
    " * df[], df.query, df.loc, df.iloc"
   ]
  },
  {
   "cell_type": "code",
   "execution_count": 142,
   "id": "be93eff6",
   "metadata": {},
   "outputs": [
    {
     "name": "stdout",
     "output_type": "stream",
     "text": [
      "(4, 5)\n"
     ]
    },
    {
     "data": {
      "text/html": [
       "<div>\n",
       "<style scoped>\n",
       "    .dataframe tbody tr th:only-of-type {\n",
       "        vertical-align: middle;\n",
       "    }\n",
       "\n",
       "    .dataframe tbody tr th {\n",
       "        vertical-align: top;\n",
       "    }\n",
       "\n",
       "    .dataframe thead th {\n",
       "        text-align: right;\n",
       "    }\n",
       "</style>\n",
       "<table border=\"1\" class=\"dataframe\">\n",
       "  <thead>\n",
       "    <tr style=\"text-align: right;\">\n",
       "      <th></th>\n",
       "      <th>A</th>\n",
       "      <th>B</th>\n",
       "      <th>C</th>\n",
       "      <th>D</th>\n",
       "      <th>E</th>\n",
       "    </tr>\n",
       "  </thead>\n",
       "  <tbody>\n",
       "    <tr>\n",
       "      <th>a</th>\n",
       "      <td>10</td>\n",
       "      <td>11</td>\n",
       "      <td>11</td>\n",
       "      <td>10</td>\n",
       "      <td>17</td>\n",
       "    </tr>\n",
       "    <tr>\n",
       "      <th>b</th>\n",
       "      <td>18</td>\n",
       "      <td>12</td>\n",
       "      <td>18</td>\n",
       "      <td>10</td>\n",
       "      <td>15</td>\n",
       "    </tr>\n",
       "    <tr>\n",
       "      <th>c</th>\n",
       "      <td>19</td>\n",
       "      <td>11</td>\n",
       "      <td>21</td>\n",
       "      <td>21</td>\n",
       "      <td>13</td>\n",
       "    </tr>\n",
       "    <tr>\n",
       "      <th>d</th>\n",
       "      <td>18</td>\n",
       "      <td>21</td>\n",
       "      <td>10</td>\n",
       "      <td>13</td>\n",
       "      <td>16</td>\n",
       "    </tr>\n",
       "  </tbody>\n",
       "</table>\n",
       "</div>"
      ],
      "text/plain": [
       "    A   B   C   D   E\n",
       "a  10  11  11  10  17\n",
       "b  18  12  18  10  15\n",
       "c  19  11  21  21  13\n",
       "d  18  21  10  13  16"
      ]
     },
     "execution_count": 142,
     "metadata": {},
     "output_type": "execute_result"
    }
   ],
   "source": [
    "np.random.seed(2022)\n",
    "df=pd.DataFrame(np.random.randint(10,22,(4,5)), index=[\"a\",\"b\",\"c\",\"d\"],columns=['A','B','C','D','E'])\n",
    "print(df.shape)\n",
    "df"
   ]
  },
  {
   "cell_type": "markdown",
   "id": "d8081750",
   "metadata": {},
   "source": [
    "   i) df [ ] "
   ]
  },
  {
   "cell_type": "code",
   "execution_count": 164,
   "id": "56c0861f",
   "metadata": {
    "scrolled": false
   },
   "outputs": [
    {
     "name": "stdout",
     "output_type": "stream",
     "text": [
      "    A   C\n",
      "a  10  11\n",
      "b  18  18\n",
      "c  19  21\n",
      "d  18  10\n",
      "a    11\n",
      "b    12\n",
      "c    11\n",
      "d    21\n",
      "Name: B, dtype: int32\n",
      "    B   C   D   E\n",
      "a  11  11  10  17\n",
      "b  12  18  10  15\n",
      "c  11  21  21  13\n",
      "d  21  10  13  16\n",
      "    A   B   C   D   E\n",
      "b  18  12  18  10  15\n",
      "c  19  11  21  21  13\n",
      "d  18  21  10  13  16\n",
      "    A   B   C   D   E\n",
      "b  18  12  18  10  15\n",
      "c  19  11  21  21  13\n"
     ]
    }
   ],
   "source": [
    "# column 추출시 [] 안에 칼럼명 입력, 복수의 경우 리스트 형식\n",
    "print(df[['A','C']])\n",
    "\n",
    "# column 추출시 점(.) 이용 가능\n",
    "print(df.B)\n",
    "\n",
    "# 지정한 열만 빼고 데이터 추출, axis=1 : 열, axis=0 : 행\n",
    "print(df.drop(\"A\", axis = 1))\n",
    "\n",
    "# 조건문을 이용한 데이터 추출\n",
    "print(df[ (df[\"A\"]>15) | (df[\"B\"]>17) ])\n",
    "\n",
    "# row 추출, 슬라이싱\n",
    "print(df[\"b\":\"c\"])"
   ]
  },
  {
   "cell_type": "markdown",
   "id": "65677900",
   "metadata": {},
   "source": [
    "   ii) df.query()"
   ]
  },
  {
   "cell_type": "code",
   "execution_count": 159,
   "id": "7c731bdb",
   "metadata": {},
   "outputs": [
    {
     "name": "stdout",
     "output_type": "stream",
     "text": [
      "    A   B   C   D   E\n",
      "a  10  11  11  10  17\n",
      "    A   B   C   D   E\n",
      "c  19  11  21  21  13\n",
      "    A   C\n",
      "c  19  21\n"
     ]
    }
   ],
   "source": [
    "# 인덱스로 column 지정\n",
    "print(df.query('index == \"a\"'))\n",
    "\n",
    "# row에 조건 지정\n",
    "print(df.query('A == 19 & C == 21'))\n",
    "\n",
    "# column, row에 모두 조건 지정\n",
    "print(df.query('A == 19')[[\"A\", \"C\"]])"
   ]
  },
  {
   "cell_type": "markdown",
   "id": "e47ccc5e",
   "metadata": {},
   "source": [
    "   iii) df.loc()\n",
    "  * df.loc[row 인덱스값]\n",
    "  * df.loc[row 인덱스값, column 인덱스값]"
   ]
  },
  {
   "cell_type": "code",
   "execution_count": 171,
   "id": "b66bb701",
   "metadata": {},
   "outputs": [
    {
     "name": "stdout",
     "output_type": "stream",
     "text": [
      "A    10\n",
      "B    11\n",
      "C    11\n",
      "D    10\n",
      "E    17\n",
      "Name: a, dtype: int32\n",
      "    A   B   C   D   E\n",
      "a  10  11  11  10  17\n",
      "b  18  12  18  10  15\n",
      "c  19  11  21  21  13\n",
      "    A   B   C   D   E\n",
      "b  18  12  18  10  15\n",
      "c  19  11  21  21  13\n",
      "    A   B   C   D   E\n",
      "c  19  11  21  21  13\n",
      "    A   B   C   D   E\n",
      "c  19  11  21  21  13\n"
     ]
    }
   ],
   "source": [
    "# row 인덱스\n",
    "print( df.loc[\"a\"] )\n",
    "\n",
    "# row 인덱스, 슬라이싱\n",
    "print( df.loc[\"a\":\"c\"] ) #loc 대신 []로도 가능\n",
    "print (df.loc[[\"b\",\"c\"]]) #loc 쓰지 않으면 error +1\n",
    "\n",
    "# 조건문 이용\n",
    "print( df.loc[df[\"A\"] > 18])\n",
    "print( df.loc[df.A > 18])"
   ]
  },
  {
   "cell_type": "code",
   "execution_count": 176,
   "id": "2c5acf91",
   "metadata": {
    "scrolled": true
   },
   "outputs": [
    {
     "name": "stdout",
     "output_type": "stream",
     "text": [
      "10\n",
      "    C   D   E\n",
      "a  11  10  17\n",
      "b  18  10  15\n",
      "    C   D\n",
      "b  18  10\n",
      "c  21  21\n",
      "d  10  13\n"
     ]
    }
   ],
   "source": [
    "# row 및 column 인덱스\n",
    "print(df.loc[\"a\",\"A\"])\n",
    "\n",
    "# row 및 column 인덱스, 슬라이싱 및 리스트 이용\n",
    "print(df.loc[[\"a\",\"b\"], \"C\":\"E\"])\n",
    "\n",
    "# row 및 column 인덱스, 조건문 이용\n",
    "print(df.loc[df.A>10, [\"C\",\"D\"]])"
   ]
  },
  {
   "cell_type": "markdown",
   "id": "98caff01",
   "metadata": {},
   "source": [
    "   iv) df.iloc()\n",
    "  * 정수 인덱스만을 받음, [row] 혹은 [row, col] 가능"
   ]
  },
  {
   "cell_type": "code",
   "execution_count": 178,
   "id": "ffa8210d",
   "metadata": {
    "scrolled": true
   },
   "outputs": [
    {
     "name": "stdout",
     "output_type": "stream",
     "text": [
      "A    18\n",
      "B    21\n",
      "C    10\n",
      "D    13\n",
      "E    16\n",
      "Name: d, dtype: int32\n",
      "a    11\n",
      "b    18\n",
      "Name: C, dtype: int32\n"
     ]
    }
   ],
   "source": [
    "# row 인덱스\n",
    "print(df.iloc[-1])\n",
    "\n",
    "# row 및 column 인덱스\n",
    "print(df.iloc[:2, 2])"
   ]
  },
  {
   "cell_type": "markdown",
   "id": "04cfd8cf",
   "metadata": {},
   "source": [
    "* **c) 데이터프레임 속성**\n",
    " * df.axes : row 및 column 축 반환\n",
    " * df.index\n",
    " * df.values : 넘파이 array 형식으로 반환 (행/열이름 제외)\n",
    " * df.ndim : 차원 나타내는 int 반환\n",
    " * df.shape : 크기를 나타내는 튜플 반환\n",
    " * df.size : 크기를 나타내는 int 반환 (데이터개수)\n",
    " * df.dtypes : column별 dtype\n",
    " * df.count() : axis=0 col 기준, axis=1 row 기준\n",
    " * df.describe()  \n",
    "*파이썬은 factor변수가 없음\n",
    "\n",
    "\n",
    "\n",
    "## 7. 파일을 읽어 들이는 방법\n",
    "* Pandas가 데이터프레임으로 읽어들일 수 있는 포맷들  \n",
    "  : CSV (comma seperated value, 로딩시 에러가 거의 없음), Excel, HTML, JSON, HDF5, SAS, STATA, SQSL\n",
    "* %%writefile : 셀에 서술한 내용대로 텍스트파일을 만드는 명령, 디렉토리에 새 파일 생성함\n",
    "* read_csv 파라미터\n",
    "  * filepath/buffer.csv\n",
    "  * sep/delimiter : default ',', '\\s+'는 정규식문자열로 길이가 정해지지 않은 공백이 구분자\n",
    "  * header : default 0, 컬럼명\n",
    "  * names : 변수명\n",
    "  * index_col : 인덱스로 사용할 열의 번호\n",
    "  * skiprows : 첫행 기준 데이터를 얼마나 건너뛰고 읽어올지 결정\n",
    "  * nrows : 파일을 읽어올 행의 수 입력\n",
    "  * date_parser : 시계열 타입으로 변환할 변수 입력"
   ]
  },
  {
   "cell_type": "code",
   "execution_count": 202,
   "id": "083346bb",
   "metadata": {},
   "outputs": [
    {
     "name": "stdout",
     "output_type": "stream",
     "text": [
      "Overwriting sample1.csv\n"
     ]
    }
   ],
   "source": [
    "%%writefile sample1.csv \n",
    "c1, c2, c3\n",
    "1, 1.11, one\n",
    "2, 2.22, two\n",
    "3, 3.33, three"
   ]
  },
  {
   "cell_type": "markdown",
   "id": "b8073079",
   "metadata": {},
   "source": [
    "### 1) csv 파일 입력"
   ]
  },
  {
   "cell_type": "code",
   "execution_count": 220,
   "id": "b0bc2e17",
   "metadata": {
    "scrolled": true
   },
   "outputs": [
    {
     "name": "stdout",
     "output_type": "stream",
     "text": [
      "   c1    c2      c3\n",
      "0   1  1.11     one\n",
      "1   2  2.22     two\n",
      "2   3  3.33   three\n",
      "   c1    c2      c3\n",
      "0   1  1.11     one\n",
      "1   2  2.22     two\n",
      "2   3  3.33   three\n"
     ]
    }
   ],
   "source": [
    "# working directory에 파일이 있을 때 파일명 입력\n",
    "print(pd.read_csv('sample1.csv'))\n",
    "\n",
    "# 파일경로 입력\n",
    "print(pd.read_csv(r\"C:\\Users\\Jaewon\\Bigdata/sample1.csv\"))\n",
    "# 경로가 긴 경우 'r'(raw string)은 문자 그대로 받아들여 달라고 요청"
   ]
  },
  {
   "cell_type": "markdown",
   "id": "a2218d03",
   "metadata": {},
   "source": [
    "### 2) csv 파일 출력"
   ]
  },
  {
   "cell_type": "code",
   "execution_count": 218,
   "id": "9105a8d4",
   "metadata": {},
   "outputs": [
    {
     "name": "stdout",
     "output_type": "stream",
     "text": [
      ",A,B,C,D,E\n",
      "a,10,11,11,10,17\n",
      "b,18,12,18,10,15\n",
      "c,19,11,21,21,13\n",
      "d,18,21,10,13,16\n",
      "|A|B|C|D|E\n",
      "a|10|11|11|10|17\n",
      "b|18|12|18|10|15\n",
      "c|19|11|21|21|13\n",
      "d|18|21|10|13|16\n"
     ]
    }
   ],
   "source": [
    "df.to_csv('sample3.csv')\n",
    "\n",
    "# type 함수 사용한 파일 내용 확인\n",
    "!type sample3.csv \n",
    "\n",
    "# sep 인수로 구분자 변경\n",
    "df.to_csv('sample4.csv', sep='|')\n",
    "!type sample4.csv "
   ]
  },
  {
   "cell_type": "markdown",
   "id": "f695ff40",
   "metadata": {},
   "source": [
    "### 3) 인터넷 상의 csv 파일 입력"
   ]
  },
  {
   "cell_type": "code",
   "execution_count": 221,
   "id": "6ed08bbc",
   "metadata": {},
   "outputs": [
    {
     "data": {
      "text/html": [
       "<div>\n",
       "<style scoped>\n",
       "    .dataframe tbody tr th:only-of-type {\n",
       "        vertical-align: middle;\n",
       "    }\n",
       "\n",
       "    .dataframe tbody tr th {\n",
       "        vertical-align: top;\n",
       "    }\n",
       "\n",
       "    .dataframe thead th {\n",
       "        text-align: right;\n",
       "    }\n",
       "</style>\n",
       "<table border=\"1\" class=\"dataframe\">\n",
       "  <thead>\n",
       "    <tr style=\"text-align: right;\">\n",
       "      <th></th>\n",
       "      <th>hsgpa</th>\n",
       "      <th>hsengl</th>\n",
       "    </tr>\n",
       "  </thead>\n",
       "  <tbody>\n",
       "    <tr>\n",
       "      <th>count</th>\n",
       "      <td>394.000000</td>\n",
       "      <td>394.000000</td>\n",
       "    </tr>\n",
       "    <tr>\n",
       "      <th>mean</th>\n",
       "      <td>79.737563</td>\n",
       "      <td>76.286802</td>\n",
       "    </tr>\n",
       "    <tr>\n",
       "      <th>std</th>\n",
       "      <td>6.056138</td>\n",
       "      <td>8.426994</td>\n",
       "    </tr>\n",
       "    <tr>\n",
       "      <th>min</th>\n",
       "      <td>65.000000</td>\n",
       "      <td>50.000000</td>\n",
       "    </tr>\n",
       "    <tr>\n",
       "      <th>25%</th>\n",
       "      <td>75.700000</td>\n",
       "      <td>71.000000</td>\n",
       "    </tr>\n",
       "    <tr>\n",
       "      <th>50%</th>\n",
       "      <td>78.700000</td>\n",
       "      <td>77.000000</td>\n",
       "    </tr>\n",
       "    <tr>\n",
       "      <th>75%</th>\n",
       "      <td>83.000000</td>\n",
       "      <td>83.000000</td>\n",
       "    </tr>\n",
       "    <tr>\n",
       "      <th>max</th>\n",
       "      <td>96.200000</td>\n",
       "      <td>96.000000</td>\n",
       "    </tr>\n",
       "  </tbody>\n",
       "</table>\n",
       "</div>"
      ],
      "text/plain": [
       "            hsgpa      hsengl\n",
       "count  394.000000  394.000000\n",
       "mean    79.737563   76.286802\n",
       "std      6.056138    8.426994\n",
       "min     65.000000   50.000000\n",
       "25%     75.700000   71.000000\n",
       "50%     78.700000   77.000000\n",
       "75%     83.000000   83.000000\n",
       "max     96.200000   96.000000"
      ]
     },
     "execution_count": 221,
     "metadata": {},
     "output_type": "execute_result"
    }
   ],
   "source": [
    "math = pd.read_csv(\"http://home.ewha.ac.kr/~josong/dm/mathcat.data\", sep = '\\s+')\n",
    "math.describe()"
   ]
  },
  {
   "cell_type": "markdown",
   "id": "93e577aa",
   "metadata": {},
   "source": [
    "### 4) 데이터 확인"
   ]
  },
  {
   "cell_type": "code",
   "execution_count": 223,
   "id": "30d51d47",
   "metadata": {
    "scrolled": true
   },
   "outputs": [
    {
     "data": {
      "text/html": [
       "<div>\n",
       "<style scoped>\n",
       "    .dataframe tbody tr th:only-of-type {\n",
       "        vertical-align: middle;\n",
       "    }\n",
       "\n",
       "    .dataframe tbody tr th {\n",
       "        vertical-align: top;\n",
       "    }\n",
       "\n",
       "    .dataframe thead th {\n",
       "        text-align: right;\n",
       "    }\n",
       "</style>\n",
       "<table border=\"1\" class=\"dataframe\">\n",
       "  <thead>\n",
       "    <tr style=\"text-align: right;\">\n",
       "      <th></th>\n",
       "      <th>hsgpa</th>\n",
       "      <th>hsengl</th>\n",
       "      <th>hscalc</th>\n",
       "      <th>course</th>\n",
       "      <th>passed</th>\n",
       "      <th>outcome</th>\n",
       "    </tr>\n",
       "  </thead>\n",
       "  <tbody>\n",
       "    <tr>\n",
       "      <th>1</th>\n",
       "      <td>78.0</td>\n",
       "      <td>80</td>\n",
       "      <td>Yes</td>\n",
       "      <td>Mainstrm</td>\n",
       "      <td>No</td>\n",
       "      <td>Failed</td>\n",
       "    </tr>\n",
       "    <tr>\n",
       "      <th>2</th>\n",
       "      <td>66.0</td>\n",
       "      <td>75</td>\n",
       "      <td>Yes</td>\n",
       "      <td>Mainstrm</td>\n",
       "      <td>Yes</td>\n",
       "      <td>Passed</td>\n",
       "    </tr>\n",
       "    <tr>\n",
       "      <th>3</th>\n",
       "      <td>80.2</td>\n",
       "      <td>70</td>\n",
       "      <td>Yes</td>\n",
       "      <td>Mainstrm</td>\n",
       "      <td>Yes</td>\n",
       "      <td>Passed</td>\n",
       "    </tr>\n",
       "    <tr>\n",
       "      <th>4</th>\n",
       "      <td>81.7</td>\n",
       "      <td>67</td>\n",
       "      <td>Yes</td>\n",
       "      <td>Mainstrm</td>\n",
       "      <td>Yes</td>\n",
       "      <td>Passed</td>\n",
       "    </tr>\n",
       "    <tr>\n",
       "      <th>5</th>\n",
       "      <td>86.8</td>\n",
       "      <td>80</td>\n",
       "      <td>Yes</td>\n",
       "      <td>Mainstrm</td>\n",
       "      <td>Yes</td>\n",
       "      <td>Passed</td>\n",
       "    </tr>\n",
       "    <tr>\n",
       "      <th>...</th>\n",
       "      <td>...</td>\n",
       "      <td>...</td>\n",
       "      <td>...</td>\n",
       "      <td>...</td>\n",
       "      <td>...</td>\n",
       "      <td>...</td>\n",
       "    </tr>\n",
       "    <tr>\n",
       "      <th>390</th>\n",
       "      <td>88.3</td>\n",
       "      <td>90</td>\n",
       "      <td>Yes</td>\n",
       "      <td>Mainstrm</td>\n",
       "      <td>Yes</td>\n",
       "      <td>Passed</td>\n",
       "    </tr>\n",
       "    <tr>\n",
       "      <th>391</th>\n",
       "      <td>77.0</td>\n",
       "      <td>79</td>\n",
       "      <td>Yes</td>\n",
       "      <td>Mainstrm</td>\n",
       "      <td>Yes</td>\n",
       "      <td>Passed</td>\n",
       "    </tr>\n",
       "    <tr>\n",
       "      <th>392</th>\n",
       "      <td>80.7</td>\n",
       "      <td>70</td>\n",
       "      <td>Yes</td>\n",
       "      <td>Mainstrm</td>\n",
       "      <td>Yes</td>\n",
       "      <td>Passed</td>\n",
       "    </tr>\n",
       "    <tr>\n",
       "      <th>393</th>\n",
       "      <td>80.7</td>\n",
       "      <td>81</td>\n",
       "      <td>Yes</td>\n",
       "      <td>Mainstrm</td>\n",
       "      <td>Yes</td>\n",
       "      <td>Passed</td>\n",
       "    </tr>\n",
       "    <tr>\n",
       "      <th>394</th>\n",
       "      <td>82.2</td>\n",
       "      <td>86</td>\n",
       "      <td>Yes</td>\n",
       "      <td>Catch-up</td>\n",
       "      <td>Yes</td>\n",
       "      <td>Passed</td>\n",
       "    </tr>\n",
       "  </tbody>\n",
       "</table>\n",
       "<p>394 rows × 6 columns</p>\n",
       "</div>"
      ],
      "text/plain": [
       "     hsgpa  hsengl hscalc    course passed outcome\n",
       "1     78.0      80    Yes  Mainstrm     No  Failed\n",
       "2     66.0      75    Yes  Mainstrm    Yes  Passed\n",
       "3     80.2      70    Yes  Mainstrm    Yes  Passed\n",
       "4     81.7      67    Yes  Mainstrm    Yes  Passed\n",
       "5     86.8      80    Yes  Mainstrm    Yes  Passed\n",
       "..     ...     ...    ...       ...    ...     ...\n",
       "390   88.3      90    Yes  Mainstrm    Yes  Passed\n",
       "391   77.0      79    Yes  Mainstrm    Yes  Passed\n",
       "392   80.7      70    Yes  Mainstrm    Yes  Passed\n",
       "393   80.7      81    Yes  Mainstrm    Yes  Passed\n",
       "394   82.2      86    Yes  Catch-up    Yes  Passed\n",
       "\n",
       "[394 rows x 6 columns]"
      ]
     },
     "execution_count": 223,
     "metadata": {},
     "output_type": "execute_result"
    }
   ],
   "source": [
    "# pandas 옵션 설정으로 앞 뒤 일부분만 보여주는 방법\n",
    "pd.set_option(\"display.max_row\", 10) # 앞뒤 합쳐 총 10행만 보여줌\n",
    "pd.set_option(\"display.max_column\", None) # 모든 컬럼 보여줌\n",
    "math"
   ]
  },
  {
   "cell_type": "markdown",
   "id": "06a043ec",
   "metadata": {},
   "source": [
    "## 8. 함수 만들기\n",
    "* 함수 : 원하는 반복 작업을 위한 입력 -> 실행 -> 외부 출력으로 이루어진 코드묶음\n",
    "* **Syntax1**  \n",
    "  def 함수이름 (매개변수): return 결과\n",
    "* **Syntax2**  \n",
    "  lambda 매개변수 : 결과"
   ]
  },
  {
   "cell_type": "code",
   "execution_count": 225,
   "id": "9a7d9757",
   "metadata": {},
   "outputs": [
    {
     "name": "stdout",
     "output_type": "stream",
     "text": [
      "0 1 1 2 3 5 8 13 21 34 55 89 144 233 377 610 987 1597 "
     ]
    }
   ],
   "source": [
    "# 피보나치 수열 출력 함수 1\n",
    "def fib(n):\n",
    "  \"\"\"Print a Fibonacci series up to n\"\"\"\n",
    "  a, b = 0,1\n",
    "  while a < n:\n",
    "    print(a, end = ' ')\n",
    "    a, b = b, a+b\n",
    "fib(2000)"
   ]
  },
  {
   "cell_type": "code",
   "execution_count": 226,
   "id": "6429f915",
   "metadata": {},
   "outputs": [
    {
     "data": {
      "text/plain": [
       "[0, 1, 1, 2, 3, 5, 8, 13, 21, 34, 55, 89, 144, 233, 377, 610, 987, 1597]"
      ]
     },
     "execution_count": 226,
     "metadata": {},
     "output_type": "execute_result"
    }
   ],
   "source": [
    "# 피보나치 수열 출력 함수 2\n",
    "def fib2(n):\n",
    "  \"\"\"Return a Fibonacci series up to n\"\"\"\n",
    "  res = [] # list object 지정\n",
    "  a, b = 0,1\n",
    "  while a < n:\n",
    "    res.append(a)\n",
    "    a, b = b, a+b\n",
    "  return res\n",
    "fib2(2000)"
   ]
  },
  {
   "cell_type": "code",
   "execution_count": 253,
   "id": "9a51e4c6",
   "metadata": {},
   "outputs": [
    {
     "name": "stdout",
     "output_type": "stream",
     "text": [
      "18\n",
      "1 1 2 3 5 8 13 21 34 55 89 144 233 377 610 987 1597 "
     ]
    }
   ],
   "source": [
    "# 피보나치 수열 출력 함수 3 - lambda 이용 +1\n",
    "print(len(fib2(2000)))\n",
    "fib = lambda n : n if n<2 else fib(n-1) + fib(n-2)\n",
    "for i in range(1,18):\n",
    "  print(fib(i), end = ' ')"
   ]
  },
  {
   "cell_type": "code",
   "execution_count": 256,
   "id": "2a3462f4",
   "metadata": {},
   "outputs": [
    {
     "data": {
      "text/plain": [
       "[3, 7, 11, 15]"
      ]
     },
     "execution_count": 256,
     "metadata": {},
     "output_type": "execute_result"
    }
   ],
   "source": [
    "# 피보나치 수열 출력 함수 4 - map() 이용, 두개의 인수를 가지는 함수 ; 수업중 확인안함 +1???\n",
    "in1 = [1, 3, 5, 7]\n",
    "in2 = [2, 4, 6, 8]\n",
    "list(map(lambda x, y : x+y, in1, in2))"
   ]
  },
  {
   "cell_type": "code",
   "execution_count": 257,
   "id": "5930041f",
   "metadata": {},
   "outputs": [
    {
     "name": "stdout",
     "output_type": "stream",
     "text": [
      "55 55\n"
     ]
    }
   ],
   "source": [
    "# 추가로 제시해주신 함수코드짜기\n",
    "\n",
    "def mysum1(n):\n",
    "  res=0\n",
    "  for i in range(1, (n+1)):\n",
    "    res = res+i\n",
    "  return res\n",
    "\n",
    "def mysum2(n):\n",
    "  res=0\n",
    "  i = 1\n",
    "  while i<= n:\n",
    "    res = res+i\n",
    "    i=i+1\n",
    "  return(res)\n",
    "  \n",
    "print(mysum1(10),mysum2(10))"
   ]
  },
  {
   "cell_type": "markdown",
   "id": "74a4f8e0",
   "metadata": {},
   "source": [
    "## 9. 모듈 다루기\n",
    "### 1) 모듈이란?\n",
    "* 프로그램이 길어짐에 따라 디버깅, 유지를 쉽게 하려고 여러 개의 파일로 나누어 코딩하거나, 각 프로그램에서 썼던 편리한 함수를 복사하지 않고도 사용 가능\n",
    "* 모듈 (.py)\n",
    "   * def와 문장들을 넣어 스크립트 및 인터프리터의 대화형 모드에서 사용할 수 있는 파일 (.py)\n",
    "   * 파이썬 코드로 구성된 파일, 함수/클래스/변수 정의 가능\n",
    " * 함수<모듈<패키지\n",
    " * 클래스 : 프로그램의 원형, 변수 정의, 함수 등으로 구성되어 있음\n",
    " \n",
    "### 2) 모듈 만들기\n",
    "\n",
    "* **method1**\n",
    "  * 주피터노트북에서 file=>save as 선택, 폴더지정없이 바로 파일 이름 작성\n",
    "  * 지정한 이름으로 탭이름이 바뀌고 Home 폴더에 .ipynb 파일이 저장됨\n",
    "  * 주피터노트북 실행 후 In 라인에 코드 입력시 Home 폴더에 .py 형식의 모듈이 만들어짐\n",
    "  \n",
    "> !jupyter nbconvert--to python pdfplt.ipynb ## +1 실행 되는지??\n",
    "\n",
    "\n",
    "* **method2**\n",
    "  * 주피터노트북에서 file=>Download as=>Python(.py) 선택시 다운로드 폴더에 .py 형식의 모듈이 만들어짐"
   ]
  },
  {
   "cell_type": "code",
   "execution_count": 259,
   "id": "52ec3ad8",
   "metadata": {},
   "outputs": [],
   "source": [
    "def normplt(m,s):\n",
    "\n",
    "    import numpy as np\n",
    "\n",
    "    import matplotlib.pyplot as plt\n",
    "\n",
    "    from scipy.stats import norm\n",
    "\n",
    "    x=np.arange(m-3*s,m+3*s,0.1)\n",
    "\n",
    "    plt.plot(x,norm.pdf(x,m,s),'b')\n",
    "\n",
    "    plt.title('Normal(Mean=' + str(m) +',STD='+str(s)+')PDF')\n",
    "\n",
    "    plt.show()\n",
    "\n",
    "\n",
    "\n",
    "def gamplt(a,b):\n",
    "\n",
    "    import numpy as np\n",
    "\n",
    "    import matplotlib.pyplot as plt\n",
    "\n",
    "    from scipy.stats import gamma\n",
    "\n",
    "    x=np.arange(0,a*b+6*a*b*b,0.1)\n",
    "\n",
    "    plt.plot(x,gamma.pdf(x,a,b),'b')\n",
    "\n",
    "    plt.title('Gamma(Alpha='+str(a)+',Beta='+str(b)+')PDF')\n",
    "\n",
    "    plt.show()"
   ]
  },
  {
   "cell_type": "markdown",
   "id": "b92a32a1",
   "metadata": {},
   "source": [
    "### 3) 모듈 사용하기\n",
    "\n",
    "* from 모듈이름 import 함수이름1, 함수이름2\n"
   ]
  },
  {
   "cell_type": "code",
   "execution_count": 262,
   "id": "b16c3745",
   "metadata": {},
   "outputs": [],
   "source": [
    "import matplotlib.pyplot as plt"
   ]
  },
  {
   "cell_type": "code",
   "execution_count": 263,
   "id": "46ff4af7",
   "metadata": {},
   "outputs": [
    {
     "ename": "ModuleNotFoundError",
     "evalue": "No module named 'pdfplt'",
     "output_type": "error",
     "traceback": [
      "\u001b[1;31m---------------------------------------------------------------------------\u001b[0m",
      "\u001b[1;31mModuleNotFoundError\u001b[0m                       Traceback (most recent call last)",
      "\u001b[1;32m~\\AppData\\Local\\Temp/ipykernel_9388/1281834344.py\u001b[0m in \u001b[0;36m<module>\u001b[1;34m\u001b[0m\n\u001b[1;32m----> 1\u001b[1;33m \u001b[1;32mfrom\u001b[0m \u001b[0mpdfplt\u001b[0m \u001b[1;32mimport\u001b[0m \u001b[0mgamplt\u001b[0m\u001b[1;33m,\u001b[0m \u001b[0mnormplt\u001b[0m\u001b[1;33m\u001b[0m\u001b[1;33m\u001b[0m\u001b[0m\n\u001b[0m\u001b[0;32m      2\u001b[0m \u001b[0mplt\u001b[0m\u001b[1;33m.\u001b[0m\u001b[0msubplot\u001b[0m\u001b[1;33m(\u001b[0m\u001b[1;36m2\u001b[0m\u001b[1;33m,\u001b[0m\u001b[1;36m1\u001b[0m\u001b[1;33m,\u001b[0m\u001b[1;36m1\u001b[0m\u001b[1;33m)\u001b[0m\u001b[1;33m\u001b[0m\u001b[1;33m\u001b[0m\u001b[0m\n\u001b[0;32m      3\u001b[0m \u001b[0mgamplt\u001b[0m\u001b[1;33m(\u001b[0m\u001b[1;36m2\u001b[0m\u001b[1;33m,\u001b[0m\u001b[1;36m1\u001b[0m\u001b[1;33m)\u001b[0m\u001b[1;33m\u001b[0m\u001b[1;33m\u001b[0m\u001b[0m\n\u001b[0;32m      4\u001b[0m \u001b[0mplt\u001b[0m\u001b[1;33m.\u001b[0m\u001b[0msubplot\u001b[0m\u001b[1;33m(\u001b[0m\u001b[1;36m2\u001b[0m\u001b[1;33m,\u001b[0m\u001b[1;36m1\u001b[0m\u001b[1;33m,\u001b[0m\u001b[1;36m1\u001b[0m\u001b[1;33m)\u001b[0m\u001b[1;33m\u001b[0m\u001b[1;33m\u001b[0m\u001b[0m\n\u001b[0;32m      5\u001b[0m \u001b[0mnormplt\u001b[0m\u001b[1;33m(\u001b[0m\u001b[1;36m2\u001b[0m\u001b[1;33m,\u001b[0m\u001b[1;36m1\u001b[0m\u001b[1;33m)\u001b[0m\u001b[1;33m\u001b[0m\u001b[1;33m\u001b[0m\u001b[0m\n",
      "\u001b[1;31mModuleNotFoundError\u001b[0m: No module named 'pdfplt'"
     ]
    }
   ],
   "source": [
    "from pdfplt import gamplt, normplt\n",
    "plt.subplot(2,1,1) # nrows=2, ncols=1, index=1\n",
    "gamplt(2,1)\n",
    "plt.subplot(2,1,1) # nrows=2, ncols=1, index=1\n",
    "normplt(2,1)"
   ]
  },
  {
   "cell_type": "code",
   "execution_count": null,
   "id": "e286fde4",
   "metadata": {},
   "outputs": [],
   "source": []
  }
 ],
 "metadata": {
  "kernelspec": {
   "display_name": "Python 3 (ipykernel)",
   "language": "python",
   "name": "python3"
  },
  "language_info": {
   "codemirror_mode": {
    "name": "ipython",
    "version": 3
   },
   "file_extension": ".py",
   "mimetype": "text/x-python",
   "name": "python",
   "nbconvert_exporter": "python",
   "pygments_lexer": "ipython3",
   "version": "3.9.7"
  }
 },
 "nbformat": 4,
 "nbformat_minor": 5
}
