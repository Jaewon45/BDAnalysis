{
  "nbformat": 4,
  "nbformat_minor": 0,
  "metadata": {
    "colab": {
      "name": "diabetes_example.ipynb",
      "provenance": [],
      "authorship_tag": "ABX9TyOAws54T6DIDRyVHy+BGL1Z",
      "include_colab_link": true
    },
    "kernelspec": {
      "name": "python3",
      "display_name": "Python 3"
    },
    "language_info": {
      "name": "python"
    }
  },
  "cells": [
    {
      "cell_type": "markdown",
      "metadata": {
        "id": "view-in-github",
        "colab_type": "text"
      },
      "source": [
        "<a href=\"https://colab.research.google.com/github/Jaewon45/BDAnalysis/blob/main/diabetes_example.ipynb\" target=\"_parent\"><img src=\"https://colab.research.google.com/assets/colab-badge.svg\" alt=\"Open In Colab\"/></a>"
      ]
    },
    {
      "cell_type": "markdown",
      "source": [
        "### 3-2. regression with DL\n",
        "- example 1: diabetes\n",
        "#### 1. Import data "
      ],
      "metadata": {
        "id": "hZc6n0EoQOVa"
      }
    },
    {
      "cell_type": "code",
      "source": [
        "import numpy as np; import pandas as pd \n",
        "import seaborn as sns; import matplotlib.pyplot as plt\n",
        "import tensorflow as tf\n",
        "from sklearn import datasets; mydata = datasets.load_diabetes()\n",
        "df = pd.DataFrame(mydata['data'], columns = mydata['feature_names'])\n",
        "df['diabetes_score'] = mydata['target']"
      ],
      "metadata": {
        "id": "fMIXliMjQO4e"
      },
      "execution_count": 2,
      "outputs": []
    },
    {
      "cell_type": "markdown",
      "source": [
        "- df.head(), df.describe().T시 데이터는 feature scaling이 완료된 상태이며, 모든 변수가 numeric이므로 원-핫/라벨인코딩 필요 X\n",
        "- standardize를 통해 모든 X의 합 0, 성별도 수치형으로 코딩됨 \n",
        " - sex와 같은 범주형변수도 2class의 경우 수치형으로 코딩 괜찮, 3class 이상부터는 numeric으로 하면 안됨\n",
        "- diabetes 점수가 높을수록 당뇨병 위험이 높음\n",
        "#### 2. data preprocessing"
      ],
      "metadata": {
        "id": "9zDSg0H9QSjW"
      }
    },
    {
      "cell_type": "code",
      "source": [
        "from sklearn.model_selection import train_test_split\n",
        "X_train, X_test, y_train, y_test = train_test_split(df.iloc[:, :-1], df.iloc[:, -1], test_size = 0.2, \n",
        "                                                    shuffle = True, random_state = 22)"
      ],
      "metadata": {
        "id": "zJOFliCUQRne"
      },
      "execution_count": 3,
      "outputs": []
    },
    {
      "cell_type": "markdown",
      "source": [
        "#### 3. building model\n",
        "1. 은닉층 2개~추가 가능 : 일반적으로 상단방향으로 줄여나감 (절대적으로 좋은지는 모름)\n",
        " 1. curve에서 loss 수렴해나가는 지점이 더 앞쪽\n",
        " 2. (epoch)가 layer 수가 많아지면(모형이 복잡해지면) 수렴이 좀더 빨라진다고 볼 수 있음\n",
        " 3. validation 선이 감소하고 있는지 확인해 early_stopping 고려\n",
        "2. 중간에 batchnormalization module 추가 가능\n",
        " 1. DNN, MLP보다 CNN에서 BN layer의 효과가 더 큼\n",
        " 2. BN-layer 추가 후, Train과 validation의 loss와 mse의 변동량의 폭이 커지는 경향 (모듈추가로인한 노이즈)\n",
        " 3. BN-layer 추가시 loss와 mse의 감소 속도가 느려지기 때문에 epoch를 증가시킬 필요가 있음\n",
        "3. kernel_initializer = \"he_normal\"추가 가능 \n",
        " 1. 성능이 가장 좋았던 Model의 입력층에 옵션 추가 => 파라미터 초기화 방법\n",
        " 2. 결정계수가 증가해 성능이 소폭 증가했으나 이전 모형과 크게 달라지지 않음\n",
        " 3. 수업에서 가장 좋은 성능을 보임\n",
        "4. hidden layer 사이에 dropout 추가\n",
        " 1. 모든 layer 사이에 Dropout을 넣지 않아도 괜찮음 (1,3,5 등 2, 3개만)\n",
        " 2. rate은 CNN은 35~45%까지, RNN은 좀더 낮게\n",
        " 3. 수업에서 dropout에 he_normal 추가 + dropout 일부 생략 + epoch증가시 성능향상 (아주소폭)\n",
        " 4. 특이점 : loss, mse curve에서 validation에서 train보다 error가 감소할 수 있음"
      ],
      "metadata": {
        "id": "XMVKRpTuQcnP"
      }
    },
    {
      "cell_type": "code",
      "source": [
        "model = tf.keras.Sequential([\n",
        "    # input layer\n",
        "    # input_dim은 df.columns-1 (y 칼럼 제외하고 카운트)\n",
        "    tf.keras.layers.Dense(128, activation = \"relu\", input_dim = (len(df.columns)-1),\n",
        "                         kernel_initializer = \"he_normal\"), \n",
        "    tf.keras.layers.Dropout(0.2),\n",
        "\n",
        "    # hidden layer : 활성화 relu\n",
        "    tf.keras.layers.Dense(64, activation = \"relu\"),\n",
        "    tf.keras.layers.BatchNormalization(),\n",
        "    tf.keras.layers.Dropout(0.2),\n",
        "\n",
        "    tf.keras.layers.Dense(32, activation = \"relu\"),\n",
        "    tf.keras.layers.BatchNormalization(),\n",
        "    tf.keras.layers.Dropout(0.2),\n",
        "\n",
        "    tf.keras.layers.Dense(16, activation = \"relu\"), \n",
        "    tf.keras.layers.BatchNormalization(),\n",
        "    tf.keras.layers.Dropout(0.2),\n",
        "\n",
        "    # output layer (dimension=1)\n",
        "    tf.keras.layers.Dense(1, activation = \"linear\")])  # linear : identity F\n",
        "    \n",
        "# Convolution - Batch Normalization - Activation - Dropout - Pooling 순서\n",
        "\n",
        "# model compile, summary\n",
        "# optimizer for backpropatation (loss를 최소화하는 W 찾기위함)\n",
        "model.compile(optimizer = \"adam\", loss = \"mse\", metrics = ['mse']) \n",
        "model.summary()"
      ],
      "metadata": {
        "colab": {
          "base_uri": "https://localhost:8080/"
        },
        "id": "TAP2aObbQYmH",
        "outputId": "ba9a9f7f-000e-42be-86de-395bf496400f"
      },
      "execution_count": 11,
      "outputs": [
        {
          "output_type": "stream",
          "name": "stdout",
          "text": [
            "Model: \"sequential_1\"\n",
            "_________________________________________________________________\n",
            " Layer (type)                Output Shape              Param #   \n",
            "=================================================================\n",
            " dense_4 (Dense)             (None, 128)               1408      \n",
            "                                                                 \n",
            " dropout (Dropout)           (None, 128)               0         \n",
            "                                                                 \n",
            " dense_5 (Dense)             (None, 64)                8256      \n",
            "                                                                 \n",
            " batch_normalization (BatchN  (None, 64)               256       \n",
            " ormalization)                                                   \n",
            "                                                                 \n",
            " dropout_1 (Dropout)         (None, 64)                0         \n",
            "                                                                 \n",
            " dense_6 (Dense)             (None, 32)                2080      \n",
            "                                                                 \n",
            " batch_normalization_1 (Batc  (None, 32)               128       \n",
            " hNormalization)                                                 \n",
            "                                                                 \n",
            " dropout_2 (Dropout)         (None, 32)                0         \n",
            "                                                                 \n",
            " dense_7 (Dense)             (None, 16)                528       \n",
            "                                                                 \n",
            " batch_normalization_2 (Batc  (None, 16)               64        \n",
            " hNormalization)                                                 \n",
            "                                                                 \n",
            " dropout_3 (Dropout)         (None, 16)                0         \n",
            "                                                                 \n",
            " dense_8 (Dense)             (None, 1)                 17        \n",
            "                                                                 \n",
            "=================================================================\n",
            "Total params: 12,737\n",
            "Trainable params: 12,513\n",
            "Non-trainable params: 224\n",
            "_________________________________________________________________\n"
          ]
        }
      ]
    },
    {
      "cell_type": "markdown",
      "source": [
        "#### 4. training model"
      ],
      "metadata": {
        "id": "NUY097upQoND"
      }
    },
    {
      "cell_type": "code",
      "source": [
        "history = model.fit(X_train, y_train, batch_size = 32, epochs = 100, validation_split = 0.2, verbose = 0)\n",
        "# validation_split : 전체 훈련데이터중 loss 계산에 사용할만큼 남겨두기, parameter가 많기에 과적합방지\n",
        "# verbose : 한바퀴 돌릴때 출력되는 option (0이면 없음, 1이면 process별, 2면 epoch별)\n",
        "# verbose=1시 출력내용 : epoch별 loss, mse, validation의 loss와 mse"
      ],
      "metadata": {
        "id": "gMBJO27oQYUa"
      },
      "execution_count": 5,
      "outputs": []
    },
    {
      "cell_type": "code",
      "source": [
        "# loss function 시각화\n",
        "def plot_loss_curve(total_epoch = 10, start = 1):\n",
        "    import matplotlib.pyplot as plt; import seaborn as sns\n",
        "    sns.set_theme(color_codes = True); plt.figure; plt.plot(figsize = (15,5))\n",
        "    plt.plot(range(start, total_epoch +1), history.history['loss'][start-1:total_epoch], label = \"Train\")\n",
        "    plt.plot(range(start, total_epoch +1), history.history['val_loss'][start-1:total_epoch], label = \"Validation\")\n",
        "    plt.xlabel(\"Epochs\"); plt.ylabel(\"loss\"); plt.legend(); plt.show()\n",
        "# mse function 시각화\n",
        "def plot_mse_curve(total_epoch = 10, start = 1):\n",
        "    plt.figure; plt.plot(figsize = (15,5)); \n",
        "    plt.plot(range(start, total_epoch +1), history.history['mse'][start-1:total_epoch], label = \"Train\")\n",
        "    plt.plot(range(start, total_epoch +1), history.history['val_mse'][start-1:total_epoch], label = \"Validation\")\n",
        "    plt.xlabel(\"Epochs\"); plt.ylabel(\"MSE\"); plt.legend(); plt.show()\n",
        "plot_loss_curve(total_epoch=100, start = 1)\n",
        "plot_mse_curve(total_epoch=100, start = 1)"
      ],
      "metadata": {
        "colab": {
          "base_uri": "https://localhost:8080/",
          "height": 553
        },
        "id": "A4L1lKwoQqwB",
        "outputId": "0e288b02-1efa-4218-a41a-39b2817046a1"
      },
      "execution_count": 6,
      "outputs": [
        {
          "output_type": "display_data",
          "data": {
            "text/plain": [
              "<Figure size 432x288 with 1 Axes>"
            ],
            "image/png": "[encoded data removed]"
          },
          "metadata": {}
        },
        {
          "output_type": "display_data",
          "data": {
            "text/plain": [
              "<Figure size 432x288 with 1 Axes>"
            ],
            "image/png": "[encoded data removed]"
          },
          "metadata": {}
        }
      ]
    },
    {
      "cell_type": "markdown",
      "source": [
        "- 40 이후로는 크게 줄지 않으니 total_epoch=40까지만 돌려도 괜찮음. 다시 진행해보기\n",
        "\n",
        "#### 5) Test model"
      ],
      "metadata": {
        "id": "dAgoe2PVQw9b"
      }
    },
    {
      "cell_type": "code",
      "source": [
        "# 1. MSE\n",
        "res = model.evaluate(X_test, y_test, verbose = 1)\n",
        "print(f'테스트 세트의 MSE : {round(res[1], 4)}')\n",
        "# 2. overserved vs fitted plot\n",
        "plt.scatter(y_test, model.predict(X_test))\n",
        "plt.xlabel(\"True Values\"); plt.ylabel(\"predicted Value\")\n",
        "plt.axis(\"equal\"); plt.axis(\"square\")\n",
        "plt.plot(y_test, y_test, label = \"y=x\"); plt.legend()\n",
        "plt.show()\n",
        "# 3. R_square\n",
        "from sklearn.metrics import r2_score\n",
        "r2_score(y_test, model.predict(X_test))"
      ],
      "metadata": {
        "colab": {
          "base_uri": "https://localhost:8080/",
          "height": 341
        },
        "id": "cUFg5heqQ1mi",
        "outputId": "e216bc78-851d-4dd1-8e68-62b1a74d62e8"
      },
      "execution_count": 10,
      "outputs": [
        {
          "output_type": "stream",
          "name": "stdout",
          "text": [
            "3/3 [==============================] - 0s 11ms/step - loss: 3310.1426 - mse: 3310.1428\n",
            "테스트 세트의 MSE : 3310.1428\n"
          ]
        },
        {
          "output_type": "display_data",
          "data": {
            "text/plain": [
              "<Figure size 432x288 with 1 Axes>"
            ],
            "image/png": "[encoded data removed]"
          },
          "metadata": {}
        },
        {
          "output_type": "execute_result",
          "data": {
            "text/plain": [
              "0.460068423463724"
            ]
          },
          "metadata": {},
          "execution_count": 10
        }
      ]
    },
    {
      "cell_type": "markdown",
      "source": [
        "- 결정계수는 높지 않게 나올 것이지만 (회귀선과 관측치가 매우 가까워야함) 전반적으로 나쁘지 않음 \n",
        "- 다른 challenging한 데이터들에 비해 퍼져있긴 해도 y=x 선 근처에 분포\n",
        "- 전체 Y의 변동량중 47%정도를 회귀모형이 설명"
      ],
      "metadata": {
        "id": "Ax4FCUUORGnS"
      }
    }
  ]
}