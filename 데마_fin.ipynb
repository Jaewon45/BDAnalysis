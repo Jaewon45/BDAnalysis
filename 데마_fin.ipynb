{
 "cells": [
  {
   "attachments": {},
   "cell_type": "markdown",
   "id": "c7470364",
   "metadata": {},
   "source": [
    "## [기말] \n",
    "#### 1. 분류분석(classification analysis)과 군집분석(clustering analysis)의 목적에 대해서 쓰시오. 분류분석과 군집분석의 차이점에 대해서 쓰시오.\n",
    "#### 2.\n",
    "- a). LDA(Linear Discriminant Analysis) 와 QDA 각각의 경우에 클래스 G=k로 주 어진 경우에 X의 조건부 확률밀도함수 f(x|G=k) 는 무엇인지를 쓰시오.     \n",
    " - 정규분포\n",
    "- b) LDA를 사용하기 위해서 모든 설명변수의 타입은 무엇이어야 하는가?  \n",
    " - 정규분포 형태의 확률분포를 가정하기 때문에 실수연속형분포 데이터여야 함. 단 순서가 있는 범주형 자료는 수치형으로 코딩해 들어갈 수는 있음, 적어도 데이터가 수치형이어야함\n",
    "- c) LDA와 QDA의 차이점은 무엇인가?-> 범위X\n",
    " \n",
    "#### 3. Logistic regression과 LDA의 차이점은 무엇인지 쓰시오.  \n",
    "- LDA는 model fitting 시작할 때부터 분포에 대한 가정이 존재, logistic regression은 존재 X\n",
    "  - 같은 형태의 공분산 구조\n",
    "  - 정규분포 형태의 확률분포\n",
    "- logistic regression은 종속변수가 범주형 변수인 상황에서도 적용 가능, LDA는 수치형 변수인 데이터에 적용\n",
    "\n",
    "#### 4. Support Vector Machines (SVM)은 이것을 최대화 하는 decision boundary를 찾으려는 분류방법론이다. 이것이 무엇인지 그 정의를 쓰시오. -> 범위 X\n",
    "- 마진을 최대화 (점선으로부터 결정 경계까지의 거리)\n",
    "\n",
    "#### 5. 송교수는 회귀분석의 경우에 모형 적합이 끝나고 나면 이 plot을 꼭 만들어 서 보고 모형이 얼마나 잘하고 있는지를 점검하라고 수업시간에 여러 번 강조하였다. 이 plot은 무엇인가?   \n",
    "- 관측치 (observed value) vs 예측치 (predicted/fitted value)\n",
    "- a) 분류분석(classification)의 경우에도 모형적합이 끝나고 나 면 이 표를 작성해서 어디서 오분류(misclassification)가 일어나는지를 확인해보라고 하였다. 이 표는 무엇인가?\n",
    " - confusion matrix (오차행렬)\n",
    " \n",
    "#### 6. 아래의 그림에 대해서 설명하시오.\n",
    "- 모형의 복잡도가 높아질수록 training sample에 과적합하게되어 test sample에 대한 예측력은 낮아진다.\n",
    "\n",
    "#### 7. TREE 모형에서 데이터를 2개의 그룹으로 나눌 때 (binary split), impurity를 최소화 하는 child nodes를 선택한다고 하였다. 이 impurity는 회귀모형과 분류모형에 서 다르게 정의되는데 각각 어떤 measure가 사용될 수 있는지를 쓰시오.\n",
    "- 회귀모형 : 평균을 이용. bootstrap model의 fitted value들 (B개)의 평균\n",
    "- 분류모형 : voting을 이용. 여러 분류 모델에 의한 분류 결과 중 major 결과로 결정\n",
    "\n",
    "#### 8. Random forest는 bagging tree 방법론 중 하나이다. Random forest가 어떻게 모형을 적합하는지 step-by-step procedure를 설명하시오. 또, Random forest 방법론이 일반적인 bagging 방법론보다 추정치의 분산을 어떻게 더 줄일 수 있는지를 설명하시오. (procedure를 설명할 때 그림을 사용해도 좋다)\n",
    "- 모든 설명변수별 best split을 찾지 않고 랜덤하게 뽑힌 m(<p)개의 설명변수에 대한 best split을 찾는다.\n",
    "- 적합한 모형들 사이의 variation이 증가, 모형간 상관관계가 감소해 분산이 감소한다.\n",
    "\n",
    "#### 9. Course homepage에 가서 finalexam1 data를 다운로드 하시오. 이 데이터는 Boston housing data이다. 반응변수 (Y)는 마지막 열에 있는 변수 MEDV 이다. MEDV는 보스턴 외곽에 있는 house 가격의 median 값들이다 (단위는 $1000). 우리는 회귀분석을 시행하고자 한다.\n",
    "- a) 설명변수중에 범주형 변수 (categorical variable)이 무엇인지 파악하고 이 를 R에서 factor type으로 바꾸시오. (힌트: 1개, 설명변수 설명을 잘 보면 바로 보임)\n",
    " - CHAS, RAD"
   ]
  },
  {
   "cell_type": "code",
   "execution_count": 39,
   "id": "3dc09bbc",
   "metadata": {},
   "outputs": [
    {
     "name": "stdout",
     "output_type": "stream",
     "text": [
      "<class 'pandas.core.frame.DataFrame'>\n",
      "Int64Index: 506 entries, 1 to 506\n",
      "Data columns (total 13 columns):\n",
      " #   Column   Non-Null Count  Dtype  \n",
      "---  ------   --------------  -----  \n",
      " 0   CRIM     506 non-null    float64\n",
      " 1   ZN       506 non-null    float64\n",
      " 2   INDUS    506 non-null    float64\n",
      " 3   NOX      506 non-null    float64\n",
      " 4   RM       506 non-null    float64\n",
      " 5   AGE      506 non-null    float64\n",
      " 6   DIS      506 non-null    float64\n",
      " 7   RAD      506 non-null    int64  \n",
      " 8   TAX      506 non-null    int64  \n",
      " 9   PTRATIO  506 non-null    float64\n",
      " 10  B        506 non-null    float64\n",
      " 11  LSTAT    506 non-null    float64\n",
      " 12  MEDV     506 non-null    float64\n",
      "dtypes: float64(11), int64(2)\n",
      "memory usage: 55.3 KB\n"
     ]
    },
    {
     "data": {
      "text/html": [
       "<div>\n",
       "<style scoped>\n",
       "    .dataframe tbody tr th:only-of-type {\n",
       "        vertical-align: middle;\n",
       "    }\n",
       "\n",
       "    .dataframe tbody tr th {\n",
       "        vertical-align: top;\n",
       "    }\n",
       "\n",
       "    .dataframe thead th {\n",
       "        text-align: right;\n",
       "    }\n",
       "</style>\n",
       "<table border=\"1\" class=\"dataframe\">\n",
       "  <thead>\n",
       "    <tr style=\"text-align: right;\">\n",
       "      <th></th>\n",
       "      <th>CRIM</th>\n",
       "      <th>ZN</th>\n",
       "      <th>INDUS</th>\n",
       "      <th>NOX</th>\n",
       "      <th>RM</th>\n",
       "      <th>AGE</th>\n",
       "      <th>DIS</th>\n",
       "      <th>RAD</th>\n",
       "      <th>TAX</th>\n",
       "      <th>PTRATIO</th>\n",
       "      <th>B</th>\n",
       "      <th>LSTAT</th>\n",
       "      <th>MEDV</th>\n",
       "    </tr>\n",
       "  </thead>\n",
       "  <tbody>\n",
       "    <tr>\n",
       "      <th>1</th>\n",
       "      <td>0.00632</td>\n",
       "      <td>18.0</td>\n",
       "      <td>2.31</td>\n",
       "      <td>0.538</td>\n",
       "      <td>6.575</td>\n",
       "      <td>65.2</td>\n",
       "      <td>4.0900</td>\n",
       "      <td>1</td>\n",
       "      <td>296</td>\n",
       "      <td>15.3</td>\n",
       "      <td>396.90</td>\n",
       "      <td>4.98</td>\n",
       "      <td>24.0</td>\n",
       "    </tr>\n",
       "    <tr>\n",
       "      <th>2</th>\n",
       "      <td>0.02731</td>\n",
       "      <td>0.0</td>\n",
       "      <td>7.07</td>\n",
       "      <td>0.469</td>\n",
       "      <td>6.421</td>\n",
       "      <td>78.9</td>\n",
       "      <td>4.9671</td>\n",
       "      <td>2</td>\n",
       "      <td>242</td>\n",
       "      <td>17.8</td>\n",
       "      <td>396.90</td>\n",
       "      <td>9.14</td>\n",
       "      <td>21.6</td>\n",
       "    </tr>\n",
       "    <tr>\n",
       "      <th>3</th>\n",
       "      <td>0.02729</td>\n",
       "      <td>0.0</td>\n",
       "      <td>7.07</td>\n",
       "      <td>0.469</td>\n",
       "      <td>7.185</td>\n",
       "      <td>61.1</td>\n",
       "      <td>4.9671</td>\n",
       "      <td>2</td>\n",
       "      <td>242</td>\n",
       "      <td>17.8</td>\n",
       "      <td>392.83</td>\n",
       "      <td>4.03</td>\n",
       "      <td>34.7</td>\n",
       "    </tr>\n",
       "    <tr>\n",
       "      <th>4</th>\n",
       "      <td>0.03237</td>\n",
       "      <td>0.0</td>\n",
       "      <td>2.18</td>\n",
       "      <td>0.458</td>\n",
       "      <td>6.998</td>\n",
       "      <td>45.8</td>\n",
       "      <td>6.0622</td>\n",
       "      <td>3</td>\n",
       "      <td>222</td>\n",
       "      <td>18.7</td>\n",
       "      <td>394.63</td>\n",
       "      <td>2.94</td>\n",
       "      <td>33.4</td>\n",
       "    </tr>\n",
       "    <tr>\n",
       "      <th>5</th>\n",
       "      <td>0.06905</td>\n",
       "      <td>0.0</td>\n",
       "      <td>2.18</td>\n",
       "      <td>0.458</td>\n",
       "      <td>7.147</td>\n",
       "      <td>54.2</td>\n",
       "      <td>6.0622</td>\n",
       "      <td>3</td>\n",
       "      <td>222</td>\n",
       "      <td>18.7</td>\n",
       "      <td>396.90</td>\n",
       "      <td>5.33</td>\n",
       "      <td>36.2</td>\n",
       "    </tr>\n",
       "  </tbody>\n",
       "</table>\n",
       "</div>"
      ],
      "text/plain": [
       "      CRIM    ZN  INDUS    NOX     RM   AGE     DIS  RAD  TAX  PTRATIO  \\\n",
       "1  0.00632  18.0   2.31  0.538  6.575  65.2  4.0900    1  296     15.3   \n",
       "2  0.02731   0.0   7.07  0.469  6.421  78.9  4.9671    2  242     17.8   \n",
       "3  0.02729   0.0   7.07  0.469  7.185  61.1  4.9671    2  242     17.8   \n",
       "4  0.03237   0.0   2.18  0.458  6.998  45.8  6.0622    3  222     18.7   \n",
       "5  0.06905   0.0   2.18  0.458  7.147  54.2  6.0622    3  222     18.7   \n",
       "\n",
       "        B  LSTAT  MEDV  \n",
       "1  396.90   4.98  24.0  \n",
       "2  396.90   9.14  21.6  \n",
       "3  392.83   4.03  34.7  \n",
       "4  394.63   2.94  33.4  \n",
       "5  396.90   5.33  36.2  "
      ]
     },
     "execution_count": 39,
     "metadata": {},
     "output_type": "execute_result"
    }
   ],
   "source": [
    "import pandas as pd\n",
    "data = pd.read_csv(\"C:/Users/Jaewon/Bigdata/fin_housing.txt\")\n",
    "df = pd.DataFrame(data)\n",
    "df= df.drop(\"CHAS\",axis=1)\n",
    "df.info()\n",
    "df.head()"
   ]
  },
  {
   "cell_type": "markdown",
   "id": "6d42dbc4",
   "metadata": {},
   "source": [
    "- b) 선형모형 (다중선형회귀모형)을 이용하여 데이터를 적합하고, stepwise 방법론을 이용하여 변수선택을 하시오. 코드를 적고 최종모형에 대해서 설명하시오."
   ]
  },
  {
   "cell_type": "code",
   "execution_count": 44,
   "id": "3973a7cd",
   "metadata": {},
   "outputs": [
    {
     "name": "stdout",
     "output_type": "stream",
     "text": [
      "36.89195979693271\n",
      "[-1.13139078e-01  4.70524578e-02  4.03114536e-02 -1.73669994e+01\n",
      "  3.85049169e+00  2.78375651e-03 -1.48537390e+00  3.28311011e-01\n",
      " -1.37558288e-02 -9.90958031e-01  9.74145094e-03 -5.34157620e-01]\n",
      "0.7355165089722999\n"
     ]
    }
   ],
   "source": [
    "from sklearn.linear_model import LinearRegression\n",
    "import matplotlib.pyplot as plt\n",
    "\n",
    "# 변수 설정\n",
    "X = df.iloc[:,:-1]\n",
    "Y = df.iloc[:,-1]\n",
    "\n",
    "# 모형 적합\n",
    "mymodel1 = LinearRegression()\n",
    "mymodel1.fit(X,Y)\n",
    "print(mymodel1.intercept_)\n",
    "print(mymodel1.coef_)\n",
    "print(mymodel1.score(X,Y))\n",
    "Y_pred1=mymodel1.predict(X)"
   ]
  },
  {
   "cell_type": "markdown",
   "id": "813de288",
   "metadata": {},
   "source": [
    "- c) Random Forest model을 이용하여 이 데이터를 적합하고 그 code를 쓰시오."
   ]
  },
  {
   "cell_type": "code",
   "execution_count": 45,
   "id": "eb3d5836",
   "metadata": {},
   "outputs": [],
   "source": [
    "from sklearn.ensemble import RandomForestRegressor\n",
    "mymodel2 = RandomForestRegressor(n_estimators = 20, max_depth = 5, random_state = 42)\n",
    "mymodel2.fit(X,Y)\n",
    "Y_pred2=mymodel2.predict(X)"
   ]
  },
  {
   "cell_type": "markdown",
   "id": "49cd6f92",
   "metadata": {},
   "source": [
    "- d) 위의 B, C에서 적합한 각각의 모형에 대해서 Observed values vs. Fitted values plot을 작성하시오. 그 코드와 결과에 대해서 코멘트 하시오."
   ]
  },
  {
   "cell_type": "code",
   "execution_count": 52,
   "id": "21d70c7b",
   "metadata": {
    "scrolled": true
   },
   "outputs": [
    {
     "data": {
      "image/png": "[encoded data removed]",
      "text/plain": [
       "<Figure size 432x288 with 1 Axes>"
      ]
     },
     "metadata": {
      "needs_background": "light"
     },
     "output_type": "display_data"
    }
   ],
   "source": [
    "# MLR\n",
    "plt.scatter(Y, Y_pred1, color='b')\n",
    "plt.plot(Y, Y, color='r', label='y=x')\n",
    "plt.xlabel(\"observed Y\")\n",
    "plt.ylabel(\"fitted Y\")\n",
    "plt.legend()\n",
    "plt.show()"
   ]
  },
  {
   "cell_type": "code",
   "execution_count": 54,
   "id": "36b5271d",
   "metadata": {},
   "outputs": [
    {
     "data": {
      "image/png": "[encoded data removed]",
      "text/plain": [
       "<Figure size 432x288 with 1 Axes>"
      ]
     },
     "metadata": {
      "needs_background": "light"
     },
     "output_type": "display_data"
    }
   ],
   "source": [
    "# random forest\n",
    "plt.scatter(Y, Y_pred2, color='b')\n",
    "plt.plot(Y, Y, color='r', label='y=x')\n",
    "plt.xlabel(\"observed Y\")\n",
    "plt.ylabel(\"fitted Y\")\n",
    "plt.legend()\n",
    "plt.show()\n",
    "\n",
    "# random forest가 fitted vs observed value 간 차이가 더 적고 잘 적합됨을 확인 가능"
   ]
  },
  {
   "cell_type": "markdown",
   "id": "0a0639b8",
   "metadata": {},
   "source": [
    "- e) 데이터를 70% training, 30% test로 임의로 나누고 training set에서 모형을 적합하고 test set에서 prediction error (MSE)를 계산하시오. 이 작업을 100 번 반복해서 MSE의 평균을 계산하시오. 위의 작업을 B와 C에서 구한 모형 (linear model with stepwise and random forest model)을 이용해서 계산하시오. 코드와 결과를 쓰고 결과에 대해서 논하시오. (set.seed(123)을 처음에 쓰고 계산할것)"
   ]
  },
  {
   "cell_type": "code",
   "execution_count": 65,
   "id": "cc8973a2",
   "metadata": {
    "scrolled": true
   },
   "outputs": [
    {
     "name": "stdout",
     "output_type": "stream",
     "text": [
      "28.66331298879915\n",
      "14.803456658341238\n"
     ]
    }
   ],
   "source": [
    "import numpy as np\n",
    "np.random.seed(123)\n",
    "from sklearn.model_selection import train_test_split\n",
    "X_train, X_test, y_train, y_test = train_test_split(X,Y,test_size=0.3)\n",
    "\n",
    "mymodel1 = LinearRegression()\n",
    "mymodel1.fit(X_train, y_train)\n",
    "y_pred1 = mymodel1.predict(X_test)\n",
    "\n",
    "mymodel2 = RandomForestRegressor(n_estimators = 20, max_depth = 5)\n",
    "mymodel2.fit(X_train, y_train)\n",
    "y_pred2 = mymodel2.predict(X_test)\n",
    "\n",
    "mlr = []\n",
    "for i in range(100):\n",
    "    x=np.mean((y_test - y_pred1)**2)\n",
    "    mlr.append(x)\n",
    "print(np.mean(mlr))\n",
    "\n",
    "rf = []\n",
    "for i in range(100):\n",
    "    x=np.mean((y_test - y_pred2)**2)\n",
    "    rf.append(x)\n",
    "print(np.mean(rf))"
   ]
  },
  {
   "cell_type": "markdown",
   "id": "ba8df92c",
   "metadata": {},
   "source": [
    "#### 10. Course homepage에 가서 finalexam2 data를 다운로드 받으시오. 이것은 South Africa heart disease data이다. 반응변수 (Y)는 chd로 이것은 binary category 변수이다. 만약 심장병이 있으면 chd=1, 없으면 chd=0 이다. \n",
    "- a) 변수들의 관계에 대해서 코멘트 하시오. (use summary and plot)\n"
   ]
  },
  {
   "cell_type": "code",
   "execution_count": 84,
   "id": "6a28c685",
   "metadata": {},
   "outputs": [
    {
     "data": {
      "text/html": [
       "<div>\n",
       "<style scoped>\n",
       "    .dataframe tbody tr th:only-of-type {\n",
       "        vertical-align: middle;\n",
       "    }\n",
       "\n",
       "    .dataframe tbody tr th {\n",
       "        vertical-align: top;\n",
       "    }\n",
       "\n",
       "    .dataframe thead th {\n",
       "        text-align: right;\n",
       "    }\n",
       "</style>\n",
       "<table border=\"1\" class=\"dataframe\">\n",
       "  <thead>\n",
       "    <tr style=\"text-align: right;\">\n",
       "      <th></th>\n",
       "      <th>sbp</th>\n",
       "      <th>tobacco</th>\n",
       "      <th>ldl</th>\n",
       "      <th>famhist</th>\n",
       "      <th>obesity</th>\n",
       "      <th>alcohol</th>\n",
       "      <th>age</th>\n",
       "      <th>chd</th>\n",
       "    </tr>\n",
       "  </thead>\n",
       "  <tbody>\n",
       "    <tr>\n",
       "      <th>0</th>\n",
       "      <td>160.0</td>\n",
       "      <td>12.00</td>\n",
       "      <td>5.73</td>\n",
       "      <td>Present</td>\n",
       "      <td>25.30</td>\n",
       "      <td>97.20</td>\n",
       "      <td>52</td>\n",
       "      <td>1</td>\n",
       "    </tr>\n",
       "    <tr>\n",
       "      <th>1</th>\n",
       "      <td>144.0</td>\n",
       "      <td>0.01</td>\n",
       "      <td>4.41</td>\n",
       "      <td>Absent</td>\n",
       "      <td>28.87</td>\n",
       "      <td>2.06</td>\n",
       "      <td>63</td>\n",
       "      <td>1</td>\n",
       "    </tr>\n",
       "    <tr>\n",
       "      <th>2</th>\n",
       "      <td>118.0</td>\n",
       "      <td>0.08</td>\n",
       "      <td>3.48</td>\n",
       "      <td>Present</td>\n",
       "      <td>29.14</td>\n",
       "      <td>3.81</td>\n",
       "      <td>46</td>\n",
       "      <td>0</td>\n",
       "    </tr>\n",
       "    <tr>\n",
       "      <th>3</th>\n",
       "      <td>170.0</td>\n",
       "      <td>7.50</td>\n",
       "      <td>6.41</td>\n",
       "      <td>Present</td>\n",
       "      <td>31.99</td>\n",
       "      <td>24.26</td>\n",
       "      <td>58</td>\n",
       "      <td>1</td>\n",
       "    </tr>\n",
       "    <tr>\n",
       "      <th>4</th>\n",
       "      <td>134.0</td>\n",
       "      <td>13.60</td>\n",
       "      <td>3.50</td>\n",
       "      <td>Present</td>\n",
       "      <td>25.99</td>\n",
       "      <td>57.34</td>\n",
       "      <td>49</td>\n",
       "      <td>1</td>\n",
       "    </tr>\n",
       "  </tbody>\n",
       "</table>\n",
       "</div>"
      ],
      "text/plain": [
       "     sbp  tobacco   ldl  famhist  obesity  alcohol  age  chd\n",
       "0  160.0    12.00  5.73  Present    25.30    97.20   52    1\n",
       "1  144.0     0.01  4.41   Absent    28.87     2.06   63    1\n",
       "2  118.0     0.08  3.48  Present    29.14     3.81   46    0\n",
       "3  170.0     7.50  6.41  Present    31.99    24.26   58    1\n",
       "4  134.0    13.60  3.50  Present    25.99    57.34   49    1"
      ]
     },
     "execution_count": 84,
     "metadata": {},
     "output_type": "execute_result"
    }
   ],
   "source": [
    "data = pd.read_csv(\"C:/Users/Jaewon/Bigdata/fin_heartdisease.txt\")\n",
    "df = pd.DataFrame(data)\n",
    "df.head()"
   ]
  },
  {
   "cell_type": "code",
   "execution_count": 85,
   "id": "c8eb0bc5",
   "metadata": {
    "scrolled": true
   },
   "outputs": [
    {
     "name": "stdout",
     "output_type": "stream",
     "text": [
      "<class 'pandas.core.frame.DataFrame'>\n",
      "RangeIndex: 462 entries, 0 to 461\n",
      "Data columns (total 8 columns):\n",
      " #   Column   Non-Null Count  Dtype  \n",
      "---  ------   --------------  -----  \n",
      " 0   sbp      457 non-null    float64\n",
      " 1   tobacco  462 non-null    float64\n",
      " 2   ldl      462 non-null    float64\n",
      " 3   famhist  455 non-null    object \n",
      " 4   obesity  462 non-null    float64\n",
      " 5   alcohol  462 non-null    float64\n",
      " 6   age      462 non-null    int64  \n",
      " 7   chd      462 non-null    int64  \n",
      "dtypes: float64(5), int64(2), object(1)\n",
      "memory usage: 29.0+ KB\n"
     ]
    }
   ],
   "source": [
    "df.info()"
   ]
  },
  {
   "cell_type": "markdown",
   "id": "cfc660fb",
   "metadata": {},
   "source": [
    "- b) 이 데이터에는 missing value들이 있다. 적절한 방법론을 이용해서 missing 된 값들을 채워 놓으시오. 어떤 방법론을 사용해도 괜찮으나 좋은 방법론을 사용하면 더 높은 점수를 받을 것임. 정 모르면 missing이 있는 observation을 제거하는 것도 무방함. 어떤 방법론을 사용했는지 설명하고 실제 채워진 값이 무엇인지도 쓰시오."
   ]
  },
  {
   "cell_type": "code",
   "execution_count": 86,
   "id": "3fd41592",
   "metadata": {},
   "outputs": [
    {
     "data": {
      "text/plain": [
       "Absent     266\n",
       "Present    189\n",
       "Name: famhist, dtype: int64"
      ]
     },
     "execution_count": 86,
     "metadata": {},
     "output_type": "execute_result"
    }
   ],
   "source": [
    "df['famhist'].value_counts()"
   ]
  },
  {
   "cell_type": "code",
   "execution_count": 87,
   "id": "eb24bc27",
   "metadata": {},
   "outputs": [
    {
     "name": "stdout",
     "output_type": "stream",
     "text": [
      "0\n"
     ]
    }
   ],
   "source": [
    "df['sbp'].fillna(np.mean(df['sbp']),inplace=True)\n",
    "df['famhist'].fillna('Absent',inplace=True)\n",
    "print(df.isnull().sum().sum())"
   ]
  },
  {
   "cell_type": "markdown",
   "id": "f17b7718",
   "metadata": {},
   "source": [
    "- c) Logistic regression을 이용해서 모형을 적합하시오. 코드와 결과 모형에 대해서 자세히 쓰고, 결과를 설명하시오."
   ]
  },
  {
   "cell_type": "code",
   "execution_count": 88,
   "id": "01ef5177",
   "metadata": {},
   "outputs": [
    {
     "data": {
      "text/plain": [
       "LogisticRegression()"
      ]
     },
     "execution_count": 88,
     "metadata": {},
     "output_type": "execute_result"
    }
   ],
   "source": [
    "df=pd.get_dummies(df['famhist'])\n",
    "X = df.iloc[:,:-1]\n",
    "Y = df.iloc[:,-1]\n",
    "\n",
    "from sklearn.linear_model import LogisticRegression\n",
    "import warnings\n",
    "warnings.filterwarnings(action = 'ignore')\n",
    "\n",
    "mymodel = LogisticRegression()\n",
    "mymodel.fit(X,Y)"
   ]
  },
  {
   "cell_type": "code",
   "execution_count": 89,
   "id": "ee77b187",
   "metadata": {},
   "outputs": [
    {
     "data": {
      "text/plain": [
       "array([[273,   0],\n",
       "       [  0, 189]], dtype=int64)"
      ]
     },
     "execution_count": 89,
     "metadata": {},
     "output_type": "execute_result"
    }
   ],
   "source": [
    "from sklearn.metrics import confusion_matrix\n",
    "mymtx = confusion_matrix(mymodel.predict(X), Y)\n",
    "mymtx\n",
    "\n",
    "# 오분류율 0, 정확도 1"
   ]
  },
  {
   "cell_type": "code",
   "execution_count": 92,
   "id": "29235a1b",
   "metadata": {},
   "outputs": [
    {
     "data": {
      "text/plain": [
       "1.0"
      ]
     },
     "execution_count": 92,
     "metadata": {},
     "output_type": "execute_result"
    }
   ],
   "source": [
    "from sklearn.metrics import accuracy_score\n",
    "accuracy_score(Y, mymodel.predict(X))"
   ]
  },
  {
   "cell_type": "markdown",
   "id": "99e75cab",
   "metadata": {},
   "source": [
    "- d) 위의 모형에서 유의하지 않은 설명변수가 있는가? Stepwise 방법론을 이 용해서 best subset of variables를 선택하시오. 최종적으로 선택된 모형을 자세히 쓰시오. -> 범위 X\n",
    "- e) Random Forest 방법론을 이용해서 모형을 적합하시오. 그리고 training data에서 모형이 얼마나 잘 예측하고 있는지를 confusion matrix를 작성해서 설명하시오. (confusion matrix는 위의 logistic 모형과 random forest모형에 대 해서 모두 작성할 것)"
   ]
  },
  {
   "cell_type": "code",
   "execution_count": 96,
   "id": "34bd8723",
   "metadata": {},
   "outputs": [
    {
     "data": {
      "text/plain": [
       "array([[78,  0],\n",
       "       [ 0, 61]], dtype=int64)"
      ]
     },
     "execution_count": 96,
     "metadata": {},
     "output_type": "execute_result"
    }
   ],
   "source": [
    "import numpy as np\n",
    "from sklearn.model_selection import train_test_split\n",
    "X_train, X_test, y_train, y_test = train_test_split(X,Y,test_size=0.3)\n",
    "\n",
    "mymodel1 = RandomForestRegressor(n_estimators = 20, max_depth = 5)\n",
    "mymodel1.fit(X_train, y_train)\n",
    "from sklearn.metrics import confusion_matrix\n",
    "mymtx = confusion_matrix(mymodel1.predict(X_test), y_test)\n",
    "mymtx\n",
    "\n",
    "# 오분류율 0"
   ]
  },
  {
   "cell_type": "code",
   "execution_count": 97,
   "id": "275ee22e",
   "metadata": {},
   "outputs": [
    {
     "data": {
      "text/plain": [
       "array([[78,  0],\n",
       "       [ 0, 61]], dtype=int64)"
      ]
     },
     "execution_count": 97,
     "metadata": {},
     "output_type": "execute_result"
    }
   ],
   "source": [
    "mymodel2 = mymodel = LogisticRegression()\n",
    "mymodel2.fit(X_train, y_train)\n",
    "from sklearn.metrics import confusion_matrix\n",
    "mymtx = confusion_matrix(mymodel2.predict(X_test), y_test)\n",
    "mymtx"
   ]
  },
  {
   "cell_type": "markdown",
   "id": "4dd53dda",
   "metadata": {},
   "source": [
    "- f) Course homepage에 test data (finalexam3 data)가 있다. 위의 두 가지 모형에 대해서 predicted value(class)를 작성하시오. 어떤 모형이 더 성능이 좋은가 를 설명하시오. (chr 변수를 factor로 바꾸는 것을 잊지 말 것!"
   ]
  },
  {
   "cell_type": "code",
   "execution_count": null,
   "id": "e935f3a3",
   "metadata": {},
   "outputs": [],
   "source": [
    "# data 없음"
   ]
  }
 ],
 "metadata": {
  "kernelspec": {
   "display_name": "Python 3 (ipykernel)",
   "language": "python",
   "name": "python3"
  },
  "language_info": {
   "codemirror_mode": {
    "name": "ipython",
    "version": 3
   },
   "file_extension": ".py",
   "mimetype": "text/x-python",
   "name": "python",
   "nbconvert_exporter": "python",
   "pygments_lexer": "ipython3",
   "version": "3.9.7"
  }
 },
 "nbformat": 4,
 "nbformat_minor": 5
}
