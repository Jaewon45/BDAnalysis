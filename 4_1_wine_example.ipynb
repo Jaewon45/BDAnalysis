{
  "nbformat": 4,
  "nbformat_minor": 0,
  "metadata": {
    "colab": {
      "name": "4-1. wine_example.ipynb",
      "provenance": [],
      "authorship_tag": "ABX9TyOjsDgA3+Rc4gcoNCMN3Lbk",
      "include_colab_link": true
    },
    "kernelspec": {
      "name": "python3",
      "display_name": "Python 3"
    },
    "language_info": {
      "name": "python"
    }
  },
  "cells": [
    {
      "cell_type": "markdown",
      "metadata": {
        "id": "view-in-github",
        "colab_type": "text"
      },
      "source": [
        "<a href=\"https://colab.research.google.com/github/Jaewon45/BDAnalysis/blob/main/4_1_wine_example.ipynb\" target=\"_parent\"><img src=\"https://colab.research.google.com/assets/colab-badge.svg\" alt=\"Open In Colab\"/></a>"
      ]
    },
    {
      "cell_type": "markdown",
      "source": [
        "### 3-3. classification with DL\n",
        "- example 1: wine\n",
        "#### 1. import dataset"
      ],
      "metadata": {
        "id": "iHvNQcidWRgw"
      }
    },
    {
      "cell_type": "code",
      "execution_count": 21,
      "metadata": {
        "id": "d7o2RueSWQqg"
      },
      "outputs": [],
      "source": [
        "import tensorflow as tf; import matplotlib.pyplot as plt; import seaborn as sns\n",
        "import pandas as pd; import numpy as np; import random\n",
        "sns.set_theme(color_codes = True)\n",
        "random.seed(22); np.random.seed(22); tf.random.set_seed(22)\n",
        "red = pd.read_csv('http://archive.ics.uci.edu/ml/machine-learning-databases/wine-quality/winequality-red.csv', sep=';')\n",
        "white = pd.read_csv('http://archive.ics.uci.edu/ml/machine-learning-databases/wine-quality/winequality-white.csv', sep=';')"
      ]
    },
    {
      "cell_type": "markdown",
      "source": [
        "#### 2. data preprocessing"
      ],
      "metadata": {
        "id": "sQOeB6X8rZHD"
      }
    },
    {
      "cell_type": "code",
      "source": [
        "red['type'] = 0; white['type'] = 1\n",
        "wine = pd.concat([red, white]); wine_copied = wine.copy()\n",
        "# 결측치, 범주형 변수 확인\n",
        "# wine.info(); sns.pairplot(wine); plt.show()"
      ],
      "metadata": {
        "id": "1FoHDWTCraOY"
      },
      "execution_count": 22,
      "outputs": []
    },
    {
      "cell_type": "code",
      "source": [
        "# wine['quality'].value_counts() : 원핫인코딩 필요\n",
        "wine = pd.get_dummies(data = wine, columns = ['quality', 'type'], prefix = ['quality', 'type'])\n",
        "# plt.hist(wine_copied['type']); plt.xticks([0, 1]); plt.show()\n",
        "# wine_copied['type'].value_counts() : 불균형데이터"
      ],
      "metadata": {
        "id": "8HLdOIMwsQ_K"
      },
      "execution_count": 23,
      "outputs": []
    },
    {
      "cell_type": "code",
      "source": [
        "# train/test split\n",
        "X = wine.iloc[:, :-2]; y = wine.iloc[:,-2:]\n",
        "from sklearn.model_selection import train_test_split\n",
        "X_train, X_test, y_train, y_test = train_test_split(X, y, test_size=0.2, \n",
        "                                                    shuffle=True, random_state=22)\n",
        "# feature scaling\n",
        "from sklearn import preprocessing\n",
        "# normalization\n",
        "minmax_scaler = preprocessing.MinMaxScaler(); norm_fit = minmax_scaler.fit(X_train)\n",
        "X_train_norm = norm_fit.transform(X_train); X_test_norm = norm_fit.transform(X_test)\n",
        "# standardization\n",
        "standard_scaler = preprocessing.StandardScaler(); stan_fit = standard_scaler.fit(X_train)\n",
        "X_train_stan = stan_fit.transform(X_train); X_test_stan = stan_fit.transform(X_test)"
      ],
      "metadata": {
        "id": "bwgv24j3sqEB"
      },
      "execution_count": 24,
      "outputs": []
    },
    {
      "cell_type": "markdown",
      "source": [
        "#### 3. building model"
      ],
      "metadata": {
        "id": "aA0LcYcmtBvQ"
      }
    },
    {
      "cell_type": "code",
      "source": [
        "from tensorflow.keras import Sequential; from tensorflow.keras.layers import Dense\n",
        "\n",
        "model = tf.keras.Sequential([    \n",
        "     # hidden layer\n",
        "    tf.keras.layers.Dense(units=48, activation='relu', input_shape=(18,)),  \n",
        "    tf.keras.layers.Dense(units=24, activation='relu'),\n",
        "    tf.keras.layers.Dense(units=12, activation='relu'),\n",
        "    # output layer\n",
        "    tf.keras.layers.Dense(units=2, activation='softmax')])\n",
        "\n",
        "# model compile\n",
        "model.compile(optimizer=tf.keras.optimizers.Adam(learning_rate=0.05), \n",
        "              loss='categorical_crossentropy', metrics=['accuracy'])\n",
        "model.summary()"
      ],
      "metadata": {
        "colab": {
          "base_uri": "https://localhost:8080/"
        },
        "id": "-PBGXtt8tBM8",
        "outputId": "1cb6205a-94bc-4121-eff7-87e66160616d"
      },
      "execution_count": 25,
      "outputs": [
        {
          "output_type": "stream",
          "name": "stdout",
          "text": [
            "Model: \"sequential_2\"\n",
            "_________________________________________________________________\n",
            " Layer (type)                Output Shape              Param #   \n",
            "=================================================================\n",
            " dense_8 (Dense)             (None, 48)                912       \n",
            "                                                                 \n",
            " dense_9 (Dense)             (None, 24)                1176      \n",
            "                                                                 \n",
            " dense_10 (Dense)            (None, 12)                300       \n",
            "                                                                 \n",
            " dense_11 (Dense)            (None, 2)                 26        \n",
            "                                                                 \n",
            "=================================================================\n",
            "Total params: 2,414\n",
            "Trainable params: 2,414\n",
            "Non-trainable params: 0\n",
            "_________________________________________________________________\n"
          ]
        }
      ]
    },
    {
      "cell_type": "markdown",
      "source": [
        "#### 4. training model & Test model\n",
        "- raw data"
      ],
      "metadata": {
        "id": "BB-kLrrntjb-"
      }
    },
    {
      "cell_type": "code",
      "source": [
        "history = model.fit(X_train, y_train, epochs=25, batch_size=32, \n",
        "                    validation_split=0.25, verbose = 0)\n",
        "# visualization loss and accuracy (loss, metrics 따로)\n",
        "\n",
        "plt.figure(figsize=(12, 4))\n",
        "plt.subplot(1, 2, 1); plt.plot(history.history['loss'],'b-',label='loss')\n",
        "plt.plot(history.history['val_loss'],'r--',label='val_loss')\n",
        "plt.xlabel('Epoch'); plt.legend()\n",
        "plt.subplot(1, 2, 2); plt.plot(history.history['accuracy'],'g-',label='accuracy')\n",
        "plt.plot(history.history['val_accuracy'],'k--',label='val_accuracy')\n",
        "plt.xlabel('Epoch'); plt.ylim(0.7, 1); plt.legend() \n",
        "plt.show()\n",
        "# epoch 증가시 loss는 감소, metrics는 증가"
      ],
      "metadata": {
        "colab": {
          "base_uri": "https://localhost:8080/",
          "height": 289
        },
        "id": "T-L_2RVztjEi",
        "outputId": "5c363b2a-eb92-4e6d-9dcd-6cd8fc9cd6d0"
      },
      "execution_count": 26,
      "outputs": [
        {
          "output_type": "display_data",
          "data": {
            "text/plain": [
              "<Figure size 864x288 with 2 Axes>"
            ],
            "image/png": "[encoded data removed]"
          },
          "metadata": {}
        }
      ]
    },
    {
      "cell_type": "code",
      "source": [
        "loss, accuracy = model.evaluate(X_test, y_test)\n",
        "print(loss,accuracy)"
      ],
      "metadata": {
        "colab": {
          "base_uri": "https://localhost:8080/"
        },
        "id": "rWHv9sqMuI_d",
        "outputId": "b91a5965-6937-479d-a5ea-0b0d6487e38a"
      },
      "execution_count": 29,
      "outputs": [
        {
          "output_type": "stream",
          "name": "stdout",
          "text": [
            "41/41 [==============================] - 0s 3ms/step - loss: 0.0553 - accuracy: 0.9854\n",
            "0.05533691495656967 0.9853846430778503\n"
          ]
        }
      ]
    },
    {
      "cell_type": "markdown",
      "source": [
        "- MinMax normalization, standardization"
      ],
      "metadata": {
        "id": "SGwdLQoqvcw2"
      }
    },
    {
      "cell_type": "code",
      "source": [
        "history = model.fit(X_train_norm, y_train, epochs=25, batch_size=32,\n",
        "                    validation_split=0.25, verbose = 0)\n",
        "loss, accuracy = model.evaluate(X_test, y_test)\n",
        "# 동일하게 시각화, loss/accuracy 출력 진행"
      ],
      "metadata": {
        "colab": {
          "base_uri": "https://localhost:8080/"
        },
        "id": "pN6d8e0tvCZn",
        "outputId": "ff687911-9f9e-4bed-f2e6-74e12311bbca"
      },
      "execution_count": 32,
      "outputs": [
        {
          "output_type": "stream",
          "name": "stdout",
          "text": [
            "41/41 [==============================] - 0s 2ms/step - loss: 95.5092 - accuracy: 0.7654\n"
          ]
        }
      ]
    },
    {
      "cell_type": "code",
      "source": [
        "history = model.fit(X_train_stan, y_train, epochs=25, batch_size=32, \n",
        "                    validation_split=0.25, verbose = 0)\n",
        "loss, accuracy = model.evaluate(X_test, y_test)\n",
        "# 동일하게 시각화, loss/accuracy 출력 진행"
      ],
      "metadata": {
        "colab": {
          "base_uri": "https://localhost:8080/"
        },
        "id": "GeVXFiQHv-n8",
        "outputId": "cece8ba5-fc47-4390-9425-f3bad8996767"
      },
      "execution_count": 33,
      "outputs": [
        {
          "output_type": "stream",
          "name": "stdout",
          "text": [
            "41/41 [==============================] - 0s 2ms/step - loss: 0.8974 - accuracy: 0.7585\n"
          ]
        }
      ]
    },
    {
      "cell_type": "markdown",
      "source": [
        "- confusion matrix"
      ],
      "metadata": {
        "id": "I_qHdUjcwGmW"
      }
    },
    {
      "cell_type": "code",
      "source": [
        "# white = 1, red = 0인 type_1 column 추출\n",
        "y_test_c = y_test.iloc[:, 1]\n",
        "# 0.9 이상인 확률은 1, 아닐 경우 0\n",
        "predictions = model.predict(X_test_norm); y_pred = (predictions > 0.9)\n",
        "# confusion matrix\n",
        "from sklearn import metrics\n",
        "matrix = metrics.confusion_matrix(y_pred.argmax(axis = 1), y_test_c)\n",
        "import pandas as pd\n",
        "pd.DataFrame(matrix, columns = [\"white\", \"red\"], index = [\"white\", \"red\"])"
      ],
      "metadata": {
        "colab": {
          "base_uri": "https://localhost:8080/",
          "height": 112
        },
        "id": "6gtx8QVgwFSX",
        "outputId": "c14c91d8-98e6-4834-ee91-0c07b051e4ce"
      },
      "execution_count": 35,
      "outputs": [
        {
          "output_type": "execute_result",
          "data": {
            "text/plain": [
              "       white  red\n",
              "white     79    0\n",
              "red      235  986"
            ],
            "text/html": [
              "\n",
              "  <div id=\"df-d7439870-3718-4a88-8d68-f701083b3137\">\n",
              "    <div class=\"colab-df-container\">\n",
              "      <div>\n",
              "<style scoped>\n",
              "    .dataframe tbody tr th:only-of-type {\n",
              "        vertical-align: middle;\n",
              "    }\n",
              "\n",
              "    .dataframe tbody tr th {\n",
              "        vertical-align: top;\n",
              "    }\n",
              "\n",
              "    .dataframe thead th {\n",
              "        text-align: right;\n",
              "    }\n",
              "</style>\n",
              "<table border=\"1\" class=\"dataframe\">\n",
              "  <thead>\n",
              "    <tr style=\"text-align: right;\">\n",
              "      <th></th>\n",
              "      <th>white</th>\n",
              "      <th>red</th>\n",
              "    </tr>\n",
              "  </thead>\n",
              "  <tbody>\n",
              "    <tr>\n",
              "      <th>white</th>\n",
              "      <td>79</td>\n",
              "      <td>0</td>\n",
              "    </tr>\n",
              "    <tr>\n",
              "      <th>red</th>\n",
              "      <td>235</td>\n",
              "      <td>986</td>\n",
              "    </tr>\n",
              "  </tbody>\n",
              "</table>\n",
              "</div>\n",
              "      <button class=\"colab-df-convert\" onclick=\"convertToInteractive('df-d7439870-3718-4a88-8d68-f701083b3137')\"\n",
              "              title=\"Convert this dataframe to an interactive table.\"\n",
              "              style=\"display:none;\">\n",
              "        \n",
              "  <svg xmlns=\"http://www.w3.org/2000/svg\" height=\"24px\"viewBox=\"0 0 24 24\"\n",
              "       width=\"24px\">\n",
              "    <path d=\"M0 0h24v24H0V0z\" fill=\"none\"/>\n",
              "    <path d=\"M18.56 5.44l.94 2.06.94-2.06 2.06-.94-2.06-.94-.94-2.06-.94 2.06-2.06.94zm-11 1L8.5 8.5l.94-2.06 2.06-.94-2.06-.94L8.5 2.5l-.94 2.06-2.06.94zm10 10l.94 2.06.94-2.06 2.06-.94-2.06-.94-.94-2.06-.94 2.06-2.06.94z\"/><path d=\"M17.41 7.96l-1.37-1.37c-.4-.4-.92-.59-1.43-.59-.52 0-1.04.2-1.43.59L10.3 9.45l-7.72 7.72c-.78.78-.78 2.05 0 2.83L4 21.41c.39.39.9.59 1.41.59.51 0 1.02-.2 1.41-.59l7.78-7.78 2.81-2.81c.8-.78.8-2.07 0-2.86zM5.41 20L4 18.59l7.72-7.72 1.47 1.35L5.41 20z\"/>\n",
              "  </svg>\n",
              "      </button>\n",
              "      \n",
              "  <style>\n",
              "    .colab-df-container {\n",
              "      display:flex;\n",
              "      flex-wrap:wrap;\n",
              "      gap: 12px;\n",
              "    }\n",
              "\n",
              "    .colab-df-convert {\n",
              "      background-color: #E8F0FE;\n",
              "      border: none;\n",
              "      border-radius: 50%;\n",
              "      cursor: pointer;\n",
              "      display: none;\n",
              "      fill: #1967D2;\n",
              "      height: 32px;\n",
              "      padding: 0 0 0 0;\n",
              "      width: 32px;\n",
              "    }\n",
              "\n",
              "    .colab-df-convert:hover {\n",
              "      background-color: #E2EBFA;\n",
              "      box-shadow: 0px 1px 2px rgba(60, 64, 67, 0.3), 0px 1px 3px 1px rgba(60, 64, 67, 0.15);\n",
              "      fill: #174EA6;\n",
              "    }\n",
              "\n",
              "    [theme=dark] .colab-df-convert {\n",
              "      background-color: #3B4455;\n",
              "      fill: #D2E3FC;\n",
              "    }\n",
              "\n",
              "    [theme=dark] .colab-df-convert:hover {\n",
              "      background-color: #434B5C;\n",
              "      box-shadow: 0px 1px 3px 1px rgba(0, 0, 0, 0.15);\n",
              "      filter: drop-shadow(0px 1px 2px rgba(0, 0, 0, 0.3));\n",
              "      fill: #FFFFFF;\n",
              "    }\n",
              "  </style>\n",
              "\n",
              "      <script>\n",
              "        const buttonEl =\n",
              "          document.querySelector('#df-d7439870-3718-4a88-8d68-f701083b3137 button.colab-df-convert');\n",
              "        buttonEl.style.display =\n",
              "          google.colab.kernel.accessAllowed ? 'block' : 'none';\n",
              "\n",
              "        async function convertToInteractive(key) {\n",
              "          const element = document.querySelector('#df-d7439870-3718-4a88-8d68-f701083b3137');\n",
              "          const dataTable =\n",
              "            await google.colab.kernel.invokeFunction('convertToInteractive',\n",
              "                                                     [key], {});\n",
              "          if (!dataTable) return;\n",
              "\n",
              "          const docLinkHtml = 'Like what you see? Visit the ' +\n",
              "            '<a target=\"_blank\" href=https://colab.research.google.com/notebooks/data_table.ipynb>data table notebook</a>'\n",
              "            + ' to learn more about interactive tables.';\n",
              "          element.innerHTML = '';\n",
              "          dataTable['output_type'] = 'display_data';\n",
              "          await google.colab.output.renderOutput(dataTable, element);\n",
              "          const docLink = document.createElement('div');\n",
              "          docLink.innerHTML = docLinkHtml;\n",
              "          element.appendChild(docLink);\n",
              "        }\n",
              "      </script>\n",
              "    </div>\n",
              "  </div>\n",
              "  "
            ]
          },
          "metadata": {},
          "execution_count": 35
        }
      ]
    }
  ]
}